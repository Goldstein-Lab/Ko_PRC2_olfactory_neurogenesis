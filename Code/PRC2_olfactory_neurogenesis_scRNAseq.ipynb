{
 "cells": [
  {
   "cell_type": "code",
   "execution_count": null,
   "id": "4929ab23-96c1-403c-b10d-c7fe09916afc",
   "metadata": {},
   "outputs": [],
   "source": [
    "#Import relevant packages\n",
    "import numpy as np\n",
    "import pandas as pd\n",
    "from matplotlib import rcParams\n",
    "import os\n",
    "import scanpy as sc\n",
    "\n",
    "import matplotlib as mpl\n",
    "import matplotlib.pyplot as plt\n",
    "\n",
    "#For nice color schemes\n",
    "import cmocean\n",
    "\n",
    "#For barplots\n",
    "import seaborn as sns"
   ]
  },
  {
   "cell_type": "code",
   "execution_count": null,
   "id": "5ece0836-4662-48dc-a7ef-ed5bcefc461e",
   "metadata": {},
   "outputs": [],
   "source": [
    "import scvi"
   ]
  },
  {
   "cell_type": "code",
   "execution_count": null,
   "id": "4fb5fe4d-e4b1-4ba3-ad8d-4d74a6c0f737",
   "metadata": {},
   "outputs": [],
   "source": [
    "#Setwd \n",
    "os.chdir('/hpc/group/goldsteinlab/tbk13_Python/EEDKOHET_K5Cre_Ai9')"
   ]
  },
  {
   "cell_type": "markdown",
   "id": "69487439-5f50-48c2-9ce2-f9ec9f3b22b0",
   "metadata": {},
   "source": [
    "# Read Data"
   ]
  },
  {
   "cell_type": "code",
   "execution_count": null,
   "id": "1df9a8b8-1b42-464c-a012-1897025b9f03",
   "metadata": {},
   "outputs": [],
   "source": [
    "#Setwd to goldsteinlab folder (has more space)\n",
    "os.chdir('/hpc/group/goldsteinlab')"
   ]
  },
  {
   "cell_type": "code",
   "execution_count": null,
   "id": "12fec5e8-4f0d-4e57-afde-d7da8958d71b",
   "metadata": {},
   "outputs": [],
   "source": [
    "#Read in 10x Cell Ranger output counts matrix for H2022_10\n",
    "EEDko1 = sc.read_10x_mtx('EEDKOHET/cell_ranger_outs/EEDKO/EEDKO_ffbm/', var_names='gene_symbols', cache=True) "
   ]
  },
  {
   "cell_type": "code",
   "execution_count": null,
   "id": "ae8e139f-8ad6-48ad-b1da-14a91722f5f7",
   "metadata": {},
   "outputs": [],
   "source": [
    "#Read in 10x Cell Ranger output counts matrix for H2022_10\n",
    "EEDko2 = sc.read_10x_mtx('EEDKOHET/cell_ranger_outs/EEDKO2/EEDKO2_ffbm/', var_names='gene_symbols', cache=True) "
   ]
  },
  {
   "cell_type": "code",
   "execution_count": null,
   "id": "3193d5cf-5ccc-4a07-852e-3fa8c17af458",
   "metadata": {},
   "outputs": [],
   "source": [
    "#Read in 10x Cell Ranger output counts matrix for H2022_10\n",
    "EEDko3 = sc.read_10x_mtx('EEDKOHET/cell_ranger_outs/EEDKO3/EEDKO3_ffbm/', var_names='gene_symbols', cache=True) "
   ]
  },
  {
   "cell_type": "code",
   "execution_count": null,
   "id": "72c66b45-50f4-48e6-bfe2-8cc10a384c5a",
   "metadata": {},
   "outputs": [],
   "source": [
    "#Read in 10x Cell Ranger output counts matrix for EEDhet\n",
    "EEDhet = sc.read_10x_mtx('EEDKOHET/cell_ranger_outs/EEDHET/EEDHET_ffbm/', var_names='gene_symbols', cache=True)  "
   ]
  },
  {
   "cell_type": "code",
   "execution_count": null,
   "id": "b9782ad9-4921-4874-b46a-5148a267f154",
   "metadata": {},
   "outputs": [],
   "source": [
    "#Read in 10x Cell Ranger output counts matrix for control WT Mouse 1\n",
    "WT1 = sc.read_10x_mtx('WT_4_mice_Ivan_Rodriguez_Geneva/Mouse1', var_names='gene_symbols', cache=True) "
   ]
  },
  {
   "cell_type": "code",
   "execution_count": null,
   "id": "c8afbcef-3d47-483c-a686-988a526c3565",
   "metadata": {},
   "outputs": [],
   "source": [
    "#Read in 10x Cell Ranger output counts matrix for control WT Mouse 2\n",
    "WT2 = sc.read_10x_mtx('WT_4_mice_Ivan_Rodriguez_Geneva/Mouse2', var_names='gene_symbols', cache=True) "
   ]
  },
  {
   "cell_type": "code",
   "execution_count": null,
   "id": "5adca2f9-4348-46fa-89de-d589415600bb",
   "metadata": {},
   "outputs": [],
   "source": [
    "#Read in 10x Cell Ranger output counts matrix for control WT Mouse 3\n",
    "WT3 = sc.read_10x_mtx('WT_4_mice_Ivan_Rodriguez_Geneva/Mouse3', var_names='gene_symbols', cache=True) "
   ]
  },
  {
   "cell_type": "code",
   "execution_count": null,
   "id": "aa2371bf-c567-4b6b-8272-eded8625c45a",
   "metadata": {},
   "outputs": [],
   "source": [
    "#Read in 10x Cell Ranger output counts matrix for control WT Mouse 4\n",
    "WT4 = sc.read_10x_mtx('WT_4_mice_Ivan_Rodriguez_Geneva/Mouse4', var_names='gene_symbols', cache=True) "
   ]
  },
  {
   "cell_type": "code",
   "execution_count": null,
   "id": "08633207-ff8b-4237-a310-9b8d130a2910",
   "metadata": {},
   "outputs": [],
   "source": [
    "# set genotype\n",
    "EEDko1.obs['genotype']='ko'\n",
    "EEDko2.obs['genotype']='ko'\n",
    "EEDko3.obs['genotype']='ko'\n",
    "EEDhet.obs['genotype']='het'\n",
    "WT1.obs['genotype']='wt'\n",
    "WT2.obs['genotype']='wt'\n",
    "WT3.obs['genotype']='wt'\n",
    "WT4.obs['genotype']='wt'\n",
    "#set mouse_ident\n",
    "EEDko1.obs['mouse_ident']='ko1'\n",
    "EEDko2.obs['mouse_ident']='ko2'\n",
    "EEDko3.obs['mouse_ident']='ko3'\n",
    "EEDhet.obs['mouse_ident']='het_pool'\n",
    "WT1.obs['mouse_ident']='wt1'\n",
    "WT2.obs['mouse_ident']='wt2'\n",
    "WT3.obs['mouse_ident']='wt3'\n",
    "WT4.obs['mouse_ident']='wt4'"
   ]
  },
  {
   "cell_type": "code",
   "execution_count": null,
   "id": "29851393-5c38-47d0-a8c2-f869e3207367",
   "metadata": {},
   "outputs": [],
   "source": [
    "#checking that all the objects have the appropriate genotype and mouse_idents\n",
    "EEDko1.obs['genotype']"
   ]
  },
  {
   "cell_type": "markdown",
   "id": "9e33d3b6-71d7-4607-a349-2e48369c9b44",
   "metadata": {},
   "source": [
    "# Quality Check and Pre-processing"
   ]
  },
  {
   "cell_type": "code",
   "execution_count": null,
   "id": "6a12a343-bd19-4e44-9f58-01a6367c3916",
   "metadata": {},
   "outputs": [],
   "source": [
    "#QC mito- annotate all mitochondrial genes\n",
    "EEDko1.var['mito'] = EEDko1.var_names.str.startswith('mt-')  # annotate the group of mitochondrial genes as 'mt'\n",
    "sc.pp.calculate_qc_metrics(EEDko1, qc_vars=['mito'], percent_top=None, log1p=False, inplace=True)\n",
    "EEDko2.var['mito'] = EEDko2.var_names.str.startswith('mt-')  \n",
    "sc.pp.calculate_qc_metrics(EEDko2, qc_vars=['mito'], percent_top=None, log1p=False, inplace=True)\n",
    "EEDko3.var['mito'] = EEDko3.var_names.str.startswith('mt-') \n",
    "sc.pp.calculate_qc_metrics(EEDko3, qc_vars=['mito'], percent_top=None, log1p=False, inplace=True)\n",
    "EEDhet.var['mito'] = EEDhet.var_names.str.startswith('mt-')  \n",
    "sc.pp.calculate_qc_metrics(EEDhet, qc_vars=['mito'], percent_top=None, log1p=False, inplace=True)\n",
    "WT1.var['mito'] = WT1.var_names.str.startswith('mt-')  \n",
    "sc.pp.calculate_qc_metrics(WT1, qc_vars=['mito'], percent_top=None, log1p=False, inplace=True)\n",
    "WT2.var['mito'] = WT2.var_names.str.startswith('mt-')  \n",
    "sc.pp.calculate_qc_metrics(WT2, qc_vars=['mito'], percent_top=None, log1p=False, inplace=True)\n",
    "WT3.var['mito'] = WT3.var_names.str.startswith('mt-')  \n",
    "sc.pp.calculate_qc_metrics(WT3, qc_vars=['mito'], percent_top=None, log1p=False, inplace=True)\n",
    "WT4.var['mito'] = WT4.var_names.str.startswith('mt-')  \n",
    "sc.pp.calculate_qc_metrics(WT4, qc_vars=['mito'], percent_top=None, log1p=False, inplace=True)"
   ]
  },
  {
   "cell_type": "code",
   "execution_count": null,
   "id": "85cc5f17-d88d-4f24-8a02-274b872d2186",
   "metadata": {},
   "outputs": [],
   "source": [
    "sc.pl.violin(EEDko1, ['n_genes_by_counts', 'total_counts', 'pct_counts_mito'],\n",
    "             jitter=0.4, multi_panel=True)\n",
    "sc.pl.scatter(EEDko1, x='total_counts', y='pct_counts_mito')\n",
    "sc.pl.scatter(EEDko1, x='total_counts', y='n_genes_by_counts')"
   ]
  },
  {
   "cell_type": "code",
   "execution_count": null,
   "id": "a8d3c16f-b180-4ddd-8079-feb3bb3ccbdd",
   "metadata": {},
   "outputs": [],
   "source": [
    "sc.pl.violin(EEDko2, ['n_genes_by_counts', 'total_counts', 'pct_counts_mito'],\n",
    "             jitter=0.4, multi_panel=True)\n",
    "sc.pl.scatter(EEDko2, x='total_counts', y='pct_counts_mito')\n",
    "sc.pl.scatter(EEDko2, x='total_counts', y='n_genes_by_counts')"
   ]
  },
  {
   "cell_type": "code",
   "execution_count": null,
   "id": "9c1cd17a-324a-4b51-9c94-f88b32b850e1",
   "metadata": {},
   "outputs": [],
   "source": [
    "sc.pl.violin(EEDko3, ['n_genes_by_counts', 'total_counts', 'pct_counts_mito'],\n",
    "             jitter=0.4, multi_panel=True)\n",
    "sc.pl.scatter(EEDko3, x='total_counts', y='pct_counts_mito')\n",
    "sc.pl.scatter(EEDko3, x='total_counts', y='n_genes_by_counts')"
   ]
  },
  {
   "cell_type": "code",
   "execution_count": null,
   "id": "9ac41933-f330-4d25-9c12-37664ac79590",
   "metadata": {},
   "outputs": [],
   "source": [
    "sc.pl.violin(EEDhet, ['n_genes_by_counts', 'total_counts', 'pct_counts_mito'],\n",
    "             jitter=0.4, multi_panel=True)\n",
    "sc.pl.scatter(EEDhet, x='total_counts', y='pct_counts_mito')\n",
    "sc.pl.scatter(EEDhet, x='total_counts', y='n_genes_by_counts')"
   ]
  },
  {
   "cell_type": "code",
   "execution_count": null,
   "id": "f89b9d38-adfe-4b37-bd68-165856762c17",
   "metadata": {},
   "outputs": [],
   "source": [
    "sc.pl.violin(WT1, ['n_genes_by_counts', 'total_counts', 'pct_counts_mito'],\n",
    "             jitter=0.4, multi_panel=True)\n",
    "sc.pl.scatter(WT1, x='total_counts', y='pct_counts_mito')\n",
    "sc.pl.scatter(WT1, x='total_counts', y='n_genes_by_counts')"
   ]
  },
  {
   "cell_type": "code",
   "execution_count": null,
   "id": "6b5df9c6-1ad4-4223-85a4-1b9827440567",
   "metadata": {},
   "outputs": [],
   "source": [
    "sc.pl.violin(WT2, ['n_genes_by_counts', 'total_counts', 'pct_counts_mito'],\n",
    "             jitter=0.4, multi_panel=True)\n",
    "sc.pl.scatter(WT2, x='total_counts', y='pct_counts_mito')\n",
    "sc.pl.scatter(WT2, x='total_counts', y='n_genes_by_counts')"
   ]
  },
  {
   "cell_type": "code",
   "execution_count": null,
   "id": "c55173fb-1ec9-4b8f-b824-934b9f3f5a8d",
   "metadata": {},
   "outputs": [],
   "source": [
    "sc.pl.violin(WT3, ['n_genes_by_counts', 'total_counts', 'pct_counts_mito'],\n",
    "             jitter=0.4, multi_panel=True)\n",
    "sc.pl.scatter(WT3, x='total_counts', y='pct_counts_mito')\n",
    "sc.pl.scatter(WT3, x='total_counts', y='n_genes_by_counts')"
   ]
  },
  {
   "cell_type": "code",
   "execution_count": null,
   "id": "a2e6fa23-f58b-47e0-9d75-6d93159a86f2",
   "metadata": {},
   "outputs": [],
   "source": [
    "sc.pl.violin(WT4, ['n_genes_by_counts', 'total_counts', 'pct_counts_mito'],\n",
    "             jitter=0.4, multi_panel=True)\n",
    "sc.pl.scatter(WT4, x='total_counts', y='pct_counts_mito')\n",
    "sc.pl.scatter(WT4, x='total_counts', y='n_genes_by_counts')"
   ]
  },
  {
   "cell_type": "code",
   "execution_count": null,
   "id": "dfaf84be-bb25-4e20-969c-3a8a24802b1c",
   "metadata": {},
   "outputs": [],
   "source": [
    "#Filter data by slicing anndata object\n",
    "EEDko1 = EEDko1[EEDko1.obs.total_counts < 45000, :]\n",
    "EEDko1 = EEDko1[EEDko1.obs.pct_counts_mito < 20, :]\n",
    "\n",
    "EEDko2 = EEDko2[EEDko2.obs.total_counts < 45000, :]\n",
    "EEDko2 = EEDko2[EEDko2.obs.pct_counts_mito < 20, :]\n",
    "\n",
    "EEDko3 = EEDko3[EEDko3.obs.total_counts < 45000, :]\n",
    "EEDko3 = EEDko3[EEDko3.obs.pct_counts_mito < 20, :]\n",
    "\n",
    "EEDhet = EEDhet[EEDhet.obs.total_counts < 45000, :]\n",
    "EEDhet = EEDhet[EEDhet.obs.pct_counts_mito < 20, :]\n",
    "\n",
    "WT1 = WT1[WT1.obs.total_counts < 45000, :]\n",
    "WT1 = WT1[WT1.obs.pct_counts_mito < 20, :]\n",
    "\n",
    "WT2 = WT2[WT2.obs.total_counts < 45000, :]\n",
    "WT2 = WT2[WT2.obs.pct_counts_mito < 20, :]\n",
    "\n",
    "WT3 = WT3[WT3.obs.total_counts < 45000, :]\n",
    "WT3 = WT3[WT3.obs.pct_counts_mito < 20, :]\n",
    "\n",
    "WT4 = WT4[WT4.obs.total_counts < 45000, :]\n",
    "WT4 = WT4[WT4.obs.pct_counts_mito < 20, :]"
   ]
  },
  {
   "cell_type": "markdown",
   "id": "a1db8918-17a1-44db-a367-29396edcac6e",
   "metadata": {},
   "source": [
    "# Concatenate datasets"
   ]
  },
  {
   "cell_type": "code",
   "execution_count": null,
   "id": "a394666b-61a8-4601-b2af-68c244630ed2",
   "metadata": {},
   "outputs": [],
   "source": [
    "s=EEDko1.obs_names\n",
    "mystring='ko1_'\n",
    "EEDko1.obs_names = list((mystring + s for s in s))\n",
    "EEDko1.obs_names"
   ]
  },
  {
   "cell_type": "code",
   "execution_count": null,
   "id": "055b8966-3855-4243-ba13-63065fa8ac24",
   "metadata": {},
   "outputs": [],
   "source": [
    "s=EEDko2.obs_names\n",
    "mystring='ko2_'\n",
    "EEDko2.obs_names = list((mystring + s for s in s))\n",
    "EEDko2.obs_names"
   ]
  },
  {
   "cell_type": "code",
   "execution_count": null,
   "id": "526002f5-8152-4b1b-bdf4-0f1e908abf74",
   "metadata": {},
   "outputs": [],
   "source": [
    "s=EEDko3.obs_names\n",
    "mystring='ko3_'\n",
    "EEDko3.obs_names = list((mystring + s for s in s))\n",
    "EEDko3.obs_names"
   ]
  },
  {
   "cell_type": "code",
   "execution_count": null,
   "id": "316ea3fd-d3d4-4cb8-8896-b8bbfd29316b",
   "metadata": {},
   "outputs": [],
   "source": [
    "s=EEDhet.obs_names\n",
    "mystring='het_'\n",
    "EEDhet.obs_names = list((mystring + s for s in s))\n",
    "EEDhet.obs_names"
   ]
  },
  {
   "cell_type": "code",
   "execution_count": null,
   "id": "2e7a27b7-d4ee-4267-8f82-e769c9c03d84",
   "metadata": {},
   "outputs": [],
   "source": [
    "s=WT1.obs_names\n",
    "mystring='wt1_'\n",
    "WT1.obs_names = list((mystring + s for s in s))\n",
    "WT1.obs_names"
   ]
  },
  {
   "cell_type": "code",
   "execution_count": null,
   "id": "1fc64817-f46b-473e-9136-14d38efd5da9",
   "metadata": {},
   "outputs": [],
   "source": [
    "s=WT2.obs_names\n",
    "mystring='wt2_'\n",
    "WT2.obs_names = list((mystring + s for s in s))\n",
    "WT2.obs_names"
   ]
  },
  {
   "cell_type": "code",
   "execution_count": null,
   "id": "06dd22c6-4ab9-4bff-b077-4b3d3c0aa514",
   "metadata": {},
   "outputs": [],
   "source": [
    "s=WT3.obs_names\n",
    "mystring='wt3_'\n",
    "WT3.obs_names = list((mystring + s for s in s))\n",
    "WT3.obs_names"
   ]
  },
  {
   "cell_type": "code",
   "execution_count": null,
   "id": "2abfbfcf-b3b3-41ac-9725-0906f5715771",
   "metadata": {},
   "outputs": [],
   "source": [
    "s=WT4.obs_names\n",
    "mystring='wt4_'\n",
    "WT4.obs_names = list((mystring + s for s in s))\n",
    "WT4.obs_names"
   ]
  },
  {
   "cell_type": "code",
   "execution_count": null,
   "id": "ceb557ce-2654-4a1f-9558-f0bbadf85c42",
   "metadata": {},
   "outputs": [],
   "source": [
    "KO1_2_adata = EEDko1.concatenate(EEDko2, index_unique=None, join='outer')"
   ]
  },
  {
   "cell_type": "code",
   "execution_count": null,
   "id": "1f4edc62-9ced-4ce2-abc3-f6f8a292c277",
   "metadata": {},
   "outputs": [],
   "source": [
    "KO1_2_adata"
   ]
  },
  {
   "cell_type": "code",
   "execution_count": null,
   "id": "b0b9c0a0-8eea-4cf1-aedb-f7083662679d",
   "metadata": {},
   "outputs": [],
   "source": [
    "#Fix var objects\n",
    "#total_counts\n",
    "x = KO1_2_adata.var.loc[:, KO1_2_adata.var.columns[KO1_2_adata.var.columns.str.match(\"total_counts-\\d+\")]]\n",
    "cols = x.T.notna().idxmax()\n",
    "x = x.reset_index().melt(\"index\")\n",
    "KO1_2_adata.var.insert(\n",
    "    0,\n",
    "    \"total_counts\",\n",
    "    x.set_index([\"index\", \"variable\"]).loc[zip(cols.index, cols.values), :].droplevel(\"variable\")\n",
    ")\n",
    "KO1_2_adata.var.drop(KO1_2_adata.var.columns[KO1_2_adata.var.columns.str.match(\"total_counts-\\d+\")], inplace=True, axis=1)"
   ]
  },
  {
   "cell_type": "code",
   "execution_count": null,
   "id": "cd6ea3c5-6955-41eb-b0e7-bc746c152e5f",
   "metadata": {},
   "outputs": [],
   "source": [
    "#delete unnecessary var objects\n",
    "del KO1_2_adata.var['n_cells_by_counts-0']\n",
    "del KO1_2_adata.var['mean_counts-0']\n",
    "del KO1_2_adata.var['pct_dropout_by_counts-0']\n",
    "del KO1_2_adata.var['n_cells_by_counts-1']\n",
    "del KO1_2_adata.var['mean_counts-1']\n",
    "del KO1_2_adata.var['pct_dropout_by_counts-1']"
   ]
  },
  {
   "cell_type": "code",
   "execution_count": null,
   "id": "4af90c06-95e8-455e-b303-7921ef959414",
   "metadata": {},
   "outputs": [],
   "source": [
    "KO1_2_3adata = KO1_2_adata.concatenate(EEDko3, index_unique=None, join='outer')"
   ]
  },
  {
   "cell_type": "code",
   "execution_count": null,
   "id": "32b20bb2-9c68-4fff-a245-6d1f37d754a3",
   "metadata": {},
   "outputs": [],
   "source": [
    "KO1_2_3adata"
   ]
  },
  {
   "cell_type": "code",
   "execution_count": null,
   "id": "dc7337d4-3262-4a28-b213-66f2c090a2a9",
   "metadata": {},
   "outputs": [],
   "source": [
    "#Fix var objects\n",
    "#total_counts\n",
    "x = KO1_2_3adata.var.loc[:, KO1_2_3adata.var.columns[KO1_2_3adata.var.columns.str.match(\"total_counts-\\d+\")]]\n",
    "cols = x.T.notna().idxmax()\n",
    "x = x.reset_index().melt(\"index\")\n",
    "KO1_2_3adata.var.insert(\n",
    "    0,\n",
    "    \"total_counts\",\n",
    "    x.set_index([\"index\", \"variable\"]).loc[zip(cols.index, cols.values), :].droplevel(\"variable\")\n",
    ")\n",
    "KO1_2_3adata.var.drop(KO1_2_3adata.var.columns[KO1_2_3adata.var.columns.str.match(\"total_counts-\\d+\")], inplace=True, axis=1)"
   ]
  },
  {
   "cell_type": "code",
   "execution_count": null,
   "id": "ea00433a-b0bc-4a1b-8997-a15f52af11d7",
   "metadata": {},
   "outputs": [],
   "source": [
    "#delete unnecessary var objects\n",
    "del KO1_2_3adata.var['n_cells_by_counts-1']\n",
    "del KO1_2_3adata.var['mean_counts-1']\n",
    "del KO1_2_3adata.var['pct_dropout_by_counts-1']"
   ]
  },
  {
   "cell_type": "code",
   "execution_count": null,
   "id": "d99100ba-b7c1-44f8-a051-125765159ae8",
   "metadata": {},
   "outputs": [],
   "source": [
    "WT_1_2_adata = WT1.concatenate(WT2, index_unique=None, join=\"outer\")"
   ]
  },
  {
   "cell_type": "code",
   "execution_count": null,
   "id": "856f2ae3-8116-4af9-abf8-72143c2c508e",
   "metadata": {},
   "outputs": [],
   "source": [
    "WT_1_2_adata"
   ]
  },
  {
   "cell_type": "code",
   "execution_count": null,
   "id": "57474a33-c7c9-4442-854c-8c3b4a650ed3",
   "metadata": {},
   "outputs": [],
   "source": [
    "#Fix var objects\n",
    "#total_counts\n",
    "x = WT_1_2_adata.var.loc[:, WT_1_2_adata.var.columns[WT_1_2_adata.var.columns.str.match(\"total_counts-\\d+\")]]\n",
    "cols = x.T.notna().idxmax()\n",
    "x = x.reset_index().melt(\"index\")\n",
    "WT_1_2_adata.var.insert(\n",
    "    0,\n",
    "    \"total_counts\",\n",
    "    x.set_index([\"index\", \"variable\"]).loc[zip(cols.index, cols.values), :].droplevel(\"variable\")\n",
    ")\n",
    "WT_1_2_adata.var.drop(WT_1_2_adata.var.columns[WT_1_2_adata.var.columns.str.match(\"total_counts-\\d+\")], inplace=True, axis=1)"
   ]
  },
  {
   "cell_type": "code",
   "execution_count": null,
   "id": "6e89f473-10f9-4087-a7a3-32d0714679d0",
   "metadata": {},
   "outputs": [],
   "source": [
    "#delete unnecessary var objects\n",
    "del WT_1_2_adata.var['n_cells_by_counts-0']\n",
    "del WT_1_2_adata.var['mean_counts-0']\n",
    "del WT_1_2_adata.var['pct_dropout_by_counts-0']\n",
    "del WT_1_2_adata.var['n_cells_by_counts-1']\n",
    "del WT_1_2_adata.var['mean_counts-1']\n",
    "del WT_1_2_adata.var['pct_dropout_by_counts-1']"
   ]
  },
  {
   "cell_type": "code",
   "execution_count": null,
   "id": "ae3d43e7-b1ce-4a20-a85c-c110b464e25d",
   "metadata": {},
   "outputs": [],
   "source": [
    "WT_3_4_adata = WT3.concatenate(WT4, index_unique=None, join='outer')"
   ]
  },
  {
   "cell_type": "code",
   "execution_count": null,
   "id": "7f5e8942-5de7-4461-820c-e294e4a3c574",
   "metadata": {},
   "outputs": [],
   "source": [
    "#Fix var objects\n",
    "#total_counts\n",
    "x = WT_3_4_adata.var.loc[:, WT_3_4_adata.var.columns[WT_3_4_adata.var.columns.str.match(\"total_counts-\\d+\")]]\n",
    "cols = x.T.notna().idxmax()\n",
    "x = x.reset_index().melt(\"index\")\n",
    "WT_3_4_adata.var.insert(\n",
    "    0,\n",
    "    \"total_counts\",\n",
    "    x.set_index([\"index\", \"variable\"]).loc[zip(cols.index, cols.values), :].droplevel(\"variable\")\n",
    ")\n",
    "WT_3_4_adata.var.drop(WT_3_4_adata.var.columns[WT_3_4_adata.var.columns.str.match(\"total_counts-\\d+\")], inplace=True, axis=1)"
   ]
  },
  {
   "cell_type": "code",
   "execution_count": null,
   "id": "e9bd60c4-bb33-4ba3-b2eb-d596b2de5b31",
   "metadata": {},
   "outputs": [],
   "source": [
    "#delete unnecessary var objects\n",
    "del WT_3_4_adata.var['n_cells_by_counts-0']\n",
    "del WT_3_4_adata.var['mean_counts-0']\n",
    "del WT_3_4_adata.var['pct_dropout_by_counts-0']\n",
    "del WT_3_4_adata.var['n_cells_by_counts-1']\n",
    "del WT_3_4_adata.var['mean_counts-1']\n",
    "del WT_3_4_adata.var['pct_dropout_by_counts-1']"
   ]
  },
  {
   "cell_type": "code",
   "execution_count": null,
   "id": "c456abbd-1d65-418b-b136-65360cb8ee0d",
   "metadata": {},
   "outputs": [],
   "source": [
    "WT_3_4_adata"
   ]
  },
  {
   "cell_type": "code",
   "execution_count": null,
   "id": "c845c07b-d055-41d3-ac28-84ae3fc73412",
   "metadata": {},
   "outputs": [],
   "source": [
    "WT_adata = WT_1_2_adata.concatenate(WT_3_4_adata, index_unique=None, join=\"outer\")"
   ]
  },
  {
   "cell_type": "code",
   "execution_count": null,
   "id": "709245f3-3d94-49b7-8e90-5b97d3f8280a",
   "metadata": {},
   "outputs": [],
   "source": [
    "WT_adata"
   ]
  },
  {
   "cell_type": "code",
   "execution_count": null,
   "id": "08f74900-a090-44e5-92a3-b36e1ec3fa36",
   "metadata": {},
   "outputs": [],
   "source": [
    "#Fix var objects\n",
    "#total_counts\n",
    "x = WT_adata.var.loc[:, WT_adata.var.columns[WT_adata.var.columns.str.match(\"total_counts-\\d+\")]]\n",
    "cols = x.T.notna().idxmax()\n",
    "x = x.reset_index().melt(\"index\")\n",
    "WT_adata.var.insert(\n",
    "    0,\n",
    "    \"total_counts\",\n",
    "    x.set_index([\"index\", \"variable\"]).loc[zip(cols.index, cols.values), :].droplevel(\"variable\")\n",
    ")\n",
    "WT_adata.var.drop(WT_adata.var.columns[WT_adata.var.columns.str.match(\"total_counts-\\d+\")], inplace=True, axis=1)"
   ]
  },
  {
   "cell_type": "code",
   "execution_count": null,
   "id": "8e06156d-b18b-48a7-962f-780a6f520972",
   "metadata": {},
   "outputs": [],
   "source": [
    "WT_adata"
   ]
  },
  {
   "cell_type": "code",
   "execution_count": null,
   "id": "f26b5646-23d4-4200-b580-d82d19c07f23",
   "metadata": {},
   "outputs": [],
   "source": [
    "WThet_adata = WT_adata.concatenate(EEDhet, index_unique=None, join=\"outer\")"
   ]
  },
  {
   "cell_type": "code",
   "execution_count": null,
   "id": "8bf536bc-5e0a-46c5-9b4b-93b8e74b7bb0",
   "metadata": {},
   "outputs": [],
   "source": [
    "WThet_adata"
   ]
  },
  {
   "cell_type": "code",
   "execution_count": null,
   "id": "c66f102d-fbff-4786-b1bc-20d86854f3a3",
   "metadata": {},
   "outputs": [],
   "source": [
    "#Fix var objects\n",
    "#total_counts\n",
    "x = WThet_adata.var.loc[:, WThet_adata.var.columns[WThet_adata.var.columns.str.match(\"total_counts-\\d+\")]]\n",
    "cols = x.T.notna().idxmax()\n",
    "x = x.reset_index().melt(\"index\")\n",
    "WThet_adata.var.insert(\n",
    "    0,\n",
    "    \"total_counts\",\n",
    "    x.set_index([\"index\", \"variable\"]).loc[zip(cols.index, cols.values), :].droplevel(\"variable\")\n",
    ")\n",
    "WThet_adata.var.drop(WThet_adata.var.columns[WThet_adata.var.columns.str.match(\"total_counts-\\d+\")], inplace=True, axis=1)"
   ]
  },
  {
   "cell_type": "code",
   "execution_count": null,
   "id": "afa222b9-08c3-4d0f-aa0f-d0298fb15269",
   "metadata": {},
   "outputs": [],
   "source": [
    "#delete unnecessary var objects\n",
    "del WThet_adata.var['n_cells_by_counts-1']\n",
    "del WThet_adata.var['mean_counts-1']\n",
    "del WThet_adata.var['pct_dropout_by_counts-1']"
   ]
  },
  {
   "cell_type": "code",
   "execution_count": null,
   "id": "5247b26c-256a-4b10-95b1-c2b52385b870",
   "metadata": {},
   "outputs": [],
   "source": [
    "#Fix var objects\n",
    "#gene_ids\n",
    "x = WThet_adata.var.loc[:, WThet_adata.var.columns[WThet_adata.var.columns.str.match(\"gene_ids-\\d+\")]]\n",
    "cols = x.T.notna().idxmax()\n",
    "x = x.reset_index().melt(\"index\")\n",
    "WThet_adata.var.insert(\n",
    "    0,\n",
    "    \"gene_ids\",\n",
    "    x.set_index([\"index\", \"variable\"]).loc[zip(cols.index, cols.values), :].droplevel(\"variable\")\n",
    ")\n",
    "WThet_adata.var.drop(WThet_adata.var.columns[WThet_adata.var.columns.str.match(\"gene_ids-\\d+\")], inplace=True, axis=1)"
   ]
  },
  {
   "cell_type": "code",
   "execution_count": null,
   "id": "7cc01694-a16a-4e9d-aac0-d79b7944629c",
   "metadata": {},
   "outputs": [],
   "source": [
    "#Fix var objects\n",
    "#feature_types\n",
    "x = WThet_adata.var.loc[:, WThet_adata.var.columns[WThet_adata.var.columns.str.match(\"feature_types-\\d+\")]]\n",
    "cols = x.T.notna().idxmax()\n",
    "x = x.reset_index().melt(\"index\")\n",
    "WThet_adata.var.insert(\n",
    "    0,\n",
    "    \"feature_types\",\n",
    "    x.set_index([\"index\", \"variable\"]).loc[zip(cols.index, cols.values), :].droplevel(\"variable\")\n",
    ")\n",
    "WThet_adata.var.drop(WThet_adata.var.columns[WThet_adata.var.columns.str.match(\"feature_types-\\d+\")], inplace=True, axis=1)"
   ]
  },
  {
   "cell_type": "code",
   "execution_count": null,
   "id": "5f7daaf6-a774-498b-8104-271174467d1b",
   "metadata": {},
   "outputs": [],
   "source": [
    "#Fix var objects\n",
    "#mito\n",
    "x = WThet_adata.var.loc[:, WThet_adata.var.columns[WThet_adata.var.columns.str.match(\"mito-\\d+\")]]\n",
    "cols = x.T.notna().idxmax()\n",
    "x = x.reset_index().melt(\"index\")\n",
    "WThet_adata.var.insert(\n",
    "    0,\n",
    "    \"mito\",\n",
    "    x.set_index([\"index\", \"variable\"]).loc[zip(cols.index, cols.values), :].droplevel(\"variable\")\n",
    ")\n",
    "WThet_adata.var.drop(WThet_adata.var.columns[WThet_adata.var.columns.str.match(\"mito-\\d+\")], inplace=True, axis=1)"
   ]
  },
  {
   "cell_type": "code",
   "execution_count": null,
   "id": "9576e8a8-94ff-4de3-b520-30b471fda566",
   "metadata": {},
   "outputs": [],
   "source": [
    "WThet_adata"
   ]
  },
  {
   "cell_type": "code",
   "execution_count": null,
   "id": "6aa41234-777f-4114-9a18-ea2518307bca",
   "metadata": {},
   "outputs": [],
   "source": [
    "adata = WThet_adata.concatenate(KO1_2_3adata, index_unique=None, join=\"outer\")"
   ]
  },
  {
   "cell_type": "code",
   "execution_count": null,
   "id": "ba524846-9ec2-48a2-9a1f-8315680d90f1",
   "metadata": {},
   "outputs": [],
   "source": [
    "adata"
   ]
  },
  {
   "cell_type": "code",
   "execution_count": null,
   "id": "ff3d0c8c-f700-4f3c-8fb8-1efe9c02f7a6",
   "metadata": {},
   "outputs": [],
   "source": [
    "#Fix var objects\n",
    "#total_counts\n",
    "x = adata.var.loc[:, adata.var.columns[adata.var.columns.str.match(\"total_counts-\\d+\")]]\n",
    "cols = x.T.notna().idxmax()\n",
    "x = x.reset_index().melt(\"index\")\n",
    "adata.var.insert(\n",
    "    0,\n",
    "    \"total_counts\",\n",
    "    x.set_index([\"index\", \"variable\"]).loc[zip(cols.index, cols.values), :].droplevel(\"variable\")\n",
    ")\n",
    "adata.var.drop(adata.var.columns[adata.var.columns.str.match(\"total_counts-\\d+\")], inplace=True, axis=1)"
   ]
  },
  {
   "cell_type": "code",
   "execution_count": null,
   "id": "947ddd70-e2a7-4657-913a-1399c0de7f3b",
   "metadata": {},
   "outputs": [],
   "source": [
    "#Fix var objects\n",
    "#gene_ids\n",
    "x = adata.var.loc[:, adata.var.columns[adata.var.columns.str.match(\"gene_ids-\\d+\")]]\n",
    "cols = x.T.notna().idxmax()\n",
    "x = x.reset_index().melt(\"index\")\n",
    "adata.var.insert(\n",
    "    0,\n",
    "    \"gene_ids\",\n",
    "    x.set_index([\"index\", \"variable\"]).loc[zip(cols.index, cols.values), :].droplevel(\"variable\")\n",
    ")\n",
    "adata.var.drop(adata.var.columns[adata.var.columns.str.match(\"gene_ids-\\d+\")], inplace=True, axis=1)"
   ]
  },
  {
   "cell_type": "code",
   "execution_count": null,
   "id": "a2135ae3-7eda-47e0-9472-46cd0cdbd8ba",
   "metadata": {},
   "outputs": [],
   "source": [
    "#Fix var objects\n",
    "#feature_types\n",
    "x = adata.var.loc[:, adata.var.columns[adata.var.columns.str.match(\"feature_types-\\d+\")]]\n",
    "cols = x.T.notna().idxmax()\n",
    "x = x.reset_index().melt(\"index\")\n",
    "adata.var.insert(\n",
    "    0,\n",
    "    \"feature_types\",\n",
    "    x.set_index([\"index\", \"variable\"]).loc[zip(cols.index, cols.values), :].droplevel(\"variable\")\n",
    ")\n",
    "adata.var.drop(adata.var.columns[adata.var.columns.str.match(\"feature_types-\\d+\")], inplace=True, axis=1)"
   ]
  },
  {
   "cell_type": "code",
   "execution_count": null,
   "id": "fda9e005-a729-4d4c-bc98-da64b271aa80",
   "metadata": {},
   "outputs": [],
   "source": [
    "#Fix var objects\n",
    "#mito\n",
    "x = adata.var.loc[:, adata.var.columns[adata.var.columns.str.match(\"mito-\\d+\")]]\n",
    "cols = x.T.notna().idxmax()\n",
    "x = x.reset_index().melt(\"index\")\n",
    "adata.var.insert(\n",
    "    0,\n",
    "    \"mito\",\n",
    "    x.set_index([\"index\", \"variable\"]).loc[zip(cols.index, cols.values), :].droplevel(\"variable\")\n",
    ")\n",
    "adata.var.drop(adata.var.columns[adata.var.columns.str.match(\"mito-\\d+\")], inplace=True, axis=1)"
   ]
  },
  {
   "cell_type": "code",
   "execution_count": null,
   "id": "8fb362d9-2b99-455d-bafe-a6dedaf77f69",
   "metadata": {},
   "outputs": [],
   "source": [
    "adata"
   ]
  },
  {
   "cell_type": "code",
   "execution_count": null,
   "id": "7e6eeb26-96f9-4b5c-ba29-f2e5890fc840",
   "metadata": {},
   "outputs": [],
   "source": [
    "#Prep for HVG and scvi\n",
    "#log1p the data\n",
    "adata.obs[\"log1p_total_counts\"] = np.log1p(adata.obs[\"total_counts\"])\n",
    "\n",
    "#Create layers\n",
    "adata.layers[\"counts\"] = adata.X.copy()\n",
    "adata.layers[\"norm\"] = adata.X.copy()\n",
    "sc.pp.normalize_total(adata, target_sum=1e4, layer=\"norm\")"
   ]
  },
  {
   "cell_type": "markdown",
   "id": "3a19403a-7127-490c-88a8-08503a500ce7",
   "metadata": {},
   "source": [
    "# Highly Variable Genes (scanpy)- prep for scVI"
   ]
  },
  {
   "cell_type": "code",
   "execution_count": null,
   "id": "669b7607-fdc4-4942-8685-7434403bfb05",
   "metadata": {},
   "outputs": [],
   "source": [
    "sc.pp.highly_variable_genes(\n",
    "    adata,\n",
    "    n_top_genes=3000,\n",
    "    subset=False,\n",
    "    layer=\"counts\",\n",
    "    flavor=\"seurat_v3\",\n",
    "    batch_key=\"mouse_ident\"\n",
    ")"
   ]
  },
  {
   "cell_type": "code",
   "execution_count": null,
   "id": "9113a0bb-f5af-44f4-a227-25268f15dde9",
   "metadata": {},
   "outputs": [],
   "source": [
    "adata.var['mean_'] = np.array(adata.X.mean(0))[0]\n",
    "adata.var['frac_zero'] = 1 - np.array((adata.X > 0).sum(0))[0] / adata.shape[0]\n",
    "fig, ax = plt.subplots(figsize=(9,6))\n",
    "\n",
    "ax.scatter(adata.var.mean_, adata.var.frac_zero, s=1)\n",
    "ax.set_xscale(\"log\")"
   ]
  },
  {
   "cell_type": "code",
   "execution_count": null,
   "id": "0c884fdb-b7f3-46ad-a2d9-292c7f80ecde",
   "metadata": {},
   "outputs": [],
   "source": [
    "df_poisson = scvi.data.poisson_gene_selection(\n",
    "    adata, n_top_genes=3000, batch_key=\"mouse_ident\", inplace=False\n",
    ")"
   ]
  },
  {
   "cell_type": "code",
   "execution_count": null,
   "id": "d20c1eaa-b98a-4160-a476-40b9c99ef080",
   "metadata": {},
   "outputs": [],
   "source": [
    "df_poisson[df_poisson.highly_variable].sort_values('prob_zero_enrichment_rank')"
   ]
  },
  {
   "cell_type": "code",
   "execution_count": null,
   "id": "da77c946-99d7-4dfd-a2cd-b83bc44138b0",
   "metadata": {},
   "outputs": [],
   "source": [
    "pd.crosstab(df_poisson.highly_variable, adata.var.highly_variable)"
   ]
  },
  {
   "cell_type": "code",
   "execution_count": null,
   "id": "5371bb54-0030-4c5b-9011-d1b95a2a61a3",
   "metadata": {},
   "outputs": [],
   "source": [
    "is_hvg = df_poisson.highly_variable"
   ]
  },
  {
   "cell_type": "code",
   "execution_count": null,
   "id": "c680172b-7bc2-4a8b-a855-29aeb3319933",
   "metadata": {},
   "outputs": [],
   "source": [
    "adata.varm['df_poisson']= df_poisson"
   ]
  },
  {
   "cell_type": "code",
   "execution_count": null,
   "id": "c0b079de-ea66-4bd9-98e0-37593120069d",
   "metadata": {},
   "outputs": [],
   "source": [
    "adata_query = adata[:, is_hvg].copy()\n",
    "print(adata_query)"
   ]
  },
  {
   "cell_type": "markdown",
   "id": "35f96c9c-595e-4571-ad1c-6cbb94a4d18b",
   "metadata": {},
   "source": [
    "# scVI model 1"
   ]
  },
  {
   "cell_type": "code",
   "execution_count": null,
   "id": "f887ef2c-c845-4d6c-9fc8-454c3d9d0bd5",
   "metadata": {},
   "outputs": [],
   "source": [
    "scvi.model.SCVI.setup_anndata(\n",
    "    adata_query,\n",
    "    layer=\"counts\",\n",
    "    categorical_covariate_keys=[\"mouse_ident\"],\n",
    "    continuous_covariate_keys=[\"pct_counts_mito\"],\n",
    "    batch_key=\"mouse_ident\"\n",
    ")"
   ]
  },
  {
   "cell_type": "code",
   "execution_count": null,
   "id": "50739e52-242b-467f-9ae3-e420833f6cca",
   "metadata": {},
   "outputs": [],
   "source": [
    "model = scvi.model.SCVI(adata_query, gene_likelihood=\"nb\")"
   ]
  },
  {
   "cell_type": "code",
   "execution_count": null,
   "id": "640dfbea-aa19-41b1-a56e-ed92b88e010d",
   "metadata": {},
   "outputs": [],
   "source": [
    "model.view_anndata_setup()"
   ]
  },
  {
   "cell_type": "code",
   "execution_count": null,
   "id": "e87b375f-7c7e-44d9-928f-0dc1f3dd835e",
   "metadata": {},
   "outputs": [],
   "source": [
    "train_kwargs = dict(\n",
    "    early_stopping=True,\n",
    "    early_stopping_patience=20,\n",
    "    enable_model_summary=True,\n",
    "    enable_progress_bar=True,\n",
    "    enable_checkpointing=True,\n",
    "    max_epochs=500\n",
    ")"
   ]
  },
  {
   "cell_type": "code",
   "execution_count": null,
   "id": "1893e362-36b2-4a76-9432-52b97d440742",
   "metadata": {},
   "outputs": [],
   "source": [
    "model.train(**train_kwargs)"
   ]
  },
  {
   "cell_type": "code",
   "execution_count": null,
   "id": "258265af-4010-43dd-99a5-9db70b543d93",
   "metadata": {},
   "outputs": [],
   "source": [
    "train_elbo = model.history['elbo_train'][1:]\n",
    "test_elbo = model.history['elbo_validation']\n",
    "\n",
    "ax = train_elbo.plot()\n",
    "test_elbo.plot(ax = ax)"
   ]
  },
  {
   "cell_type": "code",
   "execution_count": null,
   "id": "b9bbe51e-5b60-43fb-ab85-ef19d8fd2b55",
   "metadata": {},
   "outputs": [],
   "source": [
    "#Get latent representation of model to apply to UMAP\n",
    "latent = model.get_latent_representation()"
   ]
  },
  {
   "cell_type": "code",
   "execution_count": null,
   "id": "258ecb56-f387-4dec-aed6-e47024341037",
   "metadata": {},
   "outputs": [],
   "source": [
    "adata.obsm[\"X_scVI_1.1\"] = latent"
   ]
  },
  {
   "cell_type": "code",
   "execution_count": null,
   "id": "a25e9d1a-c66a-4b66-a2cd-57bca822f5ff",
   "metadata": {},
   "outputs": [],
   "source": [
    "sc.pp.neighbors(adata, use_rep=\"X_scVI_1.1\")\n",
    "sc.tl.umap(adata, min_dist=0.5)"
   ]
  },
  {
   "cell_type": "code",
   "execution_count": null,
   "id": "73f83fe2-3b95-411c-a892-748b10a29d1e",
   "metadata": {},
   "outputs": [],
   "source": [
    "# neighbors were already computed using scVI\n",
    "sc.tl.leiden(adata, key_added=\"leiden_scVI_1.1\", resolution=1.2)"
   ]
  },
  {
   "cell_type": "code",
   "execution_count": null,
   "id": "41a07735-c0a6-464a-9ae0-c17e2267fd51",
   "metadata": {},
   "outputs": [],
   "source": [
    "del adata.var['mito']"
   ]
  },
  {
   "cell_type": "code",
   "execution_count": null,
   "id": "260c34e2-337f-4adf-bc47-415b24354bf6",
   "metadata": {},
   "outputs": [],
   "source": [
    "#Save anndata\n",
    "adata.write('EEDKO_Het_WT_scVI_1.1.h5ad')"
   ]
  },
  {
   "cell_type": "code",
   "execution_count": null,
   "id": "3c08521e-870f-43a3-8586-99c3c458d1b4",
   "metadata": {},
   "outputs": [],
   "source": [
    "#Read anndata\n",
    "adata=sc.read_h5ad('EEDKO_Het_WT_scVI_1.1.h5ad')"
   ]
  },
  {
   "cell_type": "code",
   "execution_count": null,
   "id": "6dc930c6-f2bf-42c4-bbba-79190b50b982",
   "metadata": {},
   "outputs": [],
   "source": [
    "#QC UMAPs\n",
    "sc.pl.umap(\n",
    "    adata,\n",
    "    color=[\"n_genes_by_counts\", \"total_counts\", \"pct_counts_mito\", \"log1p_total_counts\"],\n",
    "    cmap=\"cubehelix_r\",\n",
    "    s=3,\n",
    "    ncols=2,\n",
    ")"
   ]
  },
  {
   "cell_type": "code",
   "execution_count": null,
   "id": "5198ae70-28a1-4562-b97f-b4c9278e67c2",
   "metadata": {},
   "outputs": [],
   "source": [
    "fig, ax = plt.subplots(figsize=(12, 8))\n",
    "sc.pl.umap(adata, color=\"leiden_scVI_1.1\", legend_loc=\"on data\", ax=ax, s=3)\n",
    "fig, ax = plt.subplots(figsize=(12, 8))\n",
    "sc.pl.umap(adata, color=\"genotype\", cmap=\"cmo.matter\", s=3, ax=ax, vmax=\"p99.99\")\n"
   ]
  },
  {
   "cell_type": "code",
   "execution_count": null,
   "id": "77bf7bd4-8db9-4b72-b58a-2f6357fbba21",
   "metadata": {},
   "outputs": [],
   "source": [
    "fig, ax = plt.subplots(figsize=(12, 8))\n",
    "sc.pl.umap(adata, color=\"tdTomato\", legend_loc=\"right margin\", ax=ax, s=3, color_map=\"cmo.matter\",\n",
    "    frameon=False,\n",
    "    vmax=\"p99.5\",\n",
    "    layer=\"norm\",)"
   ]
  },
  {
   "cell_type": "code",
   "execution_count": null,
   "id": "22301be8-912c-4595-b714-683c835c41aa",
   "metadata": {},
   "outputs": [],
   "source": [
    "#Plot Pct counts mito\n",
    "fig, ax = plt.subplots(figsize=(18,6))\n",
    "sns.boxenplot(data=adata.obs, x=\"leiden_scVI_1.1\", y=\"pct_counts_mito\", ax=ax)"
   ]
  },
  {
   "cell_type": "code",
   "execution_count": null,
   "id": "ec79671c-6afe-4adc-b914-2b7e9a9e9c00",
   "metadata": {},
   "outputs": [],
   "source": [
    "#Plot total counts\n",
    "fig, ax = plt.subplots(figsize=(18,6))\n",
    "sns.boxenplot(data=adata.obs, x=\"leiden_scVI_1.1\", y=\"total_counts\", ax=ax)"
   ]
  },
  {
   "cell_type": "code",
   "execution_count": null,
   "id": "08ec095c-2bc4-4f40-82c4-dfcc6f886598",
   "metadata": {},
   "outputs": [],
   "source": [
    "#Feature plot \n",
    "genes = ['Gng13','Gng8','Ermn','Sox2','Ascl3', 'Cftr','Trp63','Top2a','Kit','Neurod1','Ascl1','tdTomato',\n",
    "         'Ptprc', 'Cd3e','C1qa', 'Ugt2a1','Cyp2a5']\n",
    "\n",
    "sc.pl.umap(\n",
    "    adata,\n",
    "    color=genes,\n",
    "    use_raw=False,\n",
    "    legend_loc= \"on data\",\n",
    "    color_map=\"cmo.matter\",\n",
    "    ncols=3,\n",
    "    frameon=False,\n",
    "    vmax=\"p99.5\",\n",
    "    layer=\"norm\",\n",
    "    save=False\n",
    ")"
   ]
  },
  {
   "cell_type": "code",
   "execution_count": null,
   "id": "b4098cab-7895-4624-879b-96976b236c0e",
   "metadata": {},
   "outputs": [],
   "source": [
    "#remove clusters 26, 4, 9\n",
    "#Identify and subset out bad clusters\n",
    "bad_clust=['4','9','26']\n",
    "\n",
    "#Filter out bad clusters\n",
    "to_keep=(~adata.obs['leiden_scVI_1.1'].isin(bad_clust))\n",
    "\n",
    "#Copy over to new anndata object\n",
    "adata = adata[to_keep].copy()"
   ]
  },
  {
   "cell_type": "markdown",
   "id": "69de41ba-2f92-4701-9985-b50f34cbf4a2",
   "metadata": {},
   "source": [
    "# scVI model 2"
   ]
  },
  {
   "cell_type": "code",
   "execution_count": null,
   "id": "fd79b703-4234-4d5a-beae-f38c26a36bcf",
   "metadata": {},
   "outputs": [],
   "source": [
    "sc.pp.highly_variable_genes(\n",
    "    adata,\n",
    "    n_top_genes=3000,\n",
    "    subset=False,\n",
    "    layer=\"counts\",\n",
    "    flavor=\"seurat_v3\",\n",
    "    batch_key=\"mouse_ident\"\n",
    ")"
   ]
  },
  {
   "cell_type": "code",
   "execution_count": null,
   "id": "607ce67c-ec1a-4e67-8d72-a5314eb62dc3",
   "metadata": {},
   "outputs": [],
   "source": [
    "adata.var['mean_'] = np.array(adata.X.mean(0))[0]\n",
    "adata.var['frac_zero'] = 1 - np.array((adata.X > 0).sum(0))[0] / adata.shape[0]\n",
    "fig, ax = plt.subplots(figsize=(9,6))\n",
    "\n",
    "ax.scatter(adata.var.mean_, adata.var.frac_zero, s=1)\n",
    "ax.set_xscale(\"log\")"
   ]
  },
  {
   "cell_type": "code",
   "execution_count": null,
   "id": "53b843af-d38d-48aa-836e-cd3015e12816",
   "metadata": {},
   "outputs": [],
   "source": [
    "df_poisson = scvi.data.poisson_gene_selection(\n",
    "    adata, n_top_genes=3000, batch_key=\"mouse_ident\", inplace=False\n",
    ")"
   ]
  },
  {
   "cell_type": "code",
   "execution_count": null,
   "id": "7dbdd2f4-4931-4ae9-a600-282a43eee440",
   "metadata": {},
   "outputs": [],
   "source": [
    "df_poisson[df_poisson.highly_variable].sort_values('prob_zero_enrichment_rank')"
   ]
  },
  {
   "cell_type": "code",
   "execution_count": null,
   "id": "1f10afbf-e033-4fb5-a08f-15b64d0c0e58",
   "metadata": {},
   "outputs": [],
   "source": [
    "pd.crosstab(df_poisson.highly_variable, adata.var.highly_variable)"
   ]
  },
  {
   "cell_type": "code",
   "execution_count": null,
   "id": "58befef0-8a28-4a06-a376-d2b5380f4ba1",
   "metadata": {},
   "outputs": [],
   "source": [
    "is_hvg = df_poisson.highly_variable"
   ]
  },
  {
   "cell_type": "code",
   "execution_count": null,
   "id": "97fe394b-8403-49bf-a73f-f1be2e5aaa22",
   "metadata": {},
   "outputs": [],
   "source": [
    "adata.varm['df_poisson']= df_poisson"
   ]
  },
  {
   "cell_type": "code",
   "execution_count": null,
   "id": "596baf00-9b8c-489a-8a79-5f7a54c0c806",
   "metadata": {},
   "outputs": [],
   "source": [
    "adata_query = adata[:, is_hvg].copy()\n",
    "print(adata_query)"
   ]
  },
  {
   "cell_type": "code",
   "execution_count": null,
   "id": "04fe782f-9637-43f6-bca9-203edd6ec042",
   "metadata": {},
   "outputs": [],
   "source": [
    "scvi.model.SCVI.setup_anndata(\n",
    "    adata_query,\n",
    "    layer=\"counts\",\n",
    "    categorical_covariate_keys=[\"genotype\"],\n",
    "    continuous_covariate_keys=[\"pct_counts_mito\"],\n",
    "    batch_key=\"mouse_ident\"\n",
    ")"
   ]
  },
  {
   "cell_type": "code",
   "execution_count": null,
   "id": "a6c9d9e1-af42-4010-9a01-354106fca97e",
   "metadata": {},
   "outputs": [],
   "source": [
    "model = scvi.model.SCVI(adata_query, gene_likelihood=\"nb\")"
   ]
  },
  {
   "cell_type": "code",
   "execution_count": null,
   "id": "d285a151-f2fd-4560-b1a8-e54e4ea305ed",
   "metadata": {},
   "outputs": [],
   "source": [
    "model.view_anndata_setup()"
   ]
  },
  {
   "cell_type": "code",
   "execution_count": null,
   "id": "1d861c70-ab26-4295-ae84-b4a4305341ca",
   "metadata": {},
   "outputs": [],
   "source": [
    "train_kwargs = dict(\n",
    "    early_stopping=True,\n",
    "    early_stopping_patience=20,\n",
    "    enable_model_summary=True,\n",
    "    enable_progress_bar=True,\n",
    "    enable_checkpointing=True,\n",
    "    max_epochs=500\n",
    ")"
   ]
  },
  {
   "cell_type": "code",
   "execution_count": null,
   "id": "cf9f3a74-5b19-4802-8e3e-6f05c0460a3d",
   "metadata": {},
   "outputs": [],
   "source": [
    "model.train(**train_kwargs)"
   ]
  },
  {
   "cell_type": "code",
   "execution_count": null,
   "id": "c0674d54-e316-433b-81a3-34a3855b5801",
   "metadata": {},
   "outputs": [],
   "source": [
    "train_elbo = model.history['elbo_train'][1:]\n",
    "test_elbo = model.history['elbo_validation']\n",
    "\n",
    "ax = train_elbo.plot()\n",
    "test_elbo.plot(ax = ax)"
   ]
  },
  {
   "cell_type": "code",
   "execution_count": null,
   "id": "71bf6d10-267d-4d82-b89c-de9f1366358c",
   "metadata": {},
   "outputs": [],
   "source": [
    "#Get latent representation of model to apply to UMAP\n",
    "latent = model.get_latent_representation()"
   ]
  },
  {
   "cell_type": "code",
   "execution_count": null,
   "id": "152cbaba-44c1-4496-b6c5-bde2a7dd6851",
   "metadata": {},
   "outputs": [],
   "source": [
    "adata.obsm[\"X_scVI_1.2\"] = latent"
   ]
  },
  {
   "cell_type": "code",
   "execution_count": null,
   "id": "d9c5ec6b-c704-4b5c-b8c8-36de3b8a9704",
   "metadata": {},
   "outputs": [],
   "source": [
    "sc.pp.neighbors(adata, use_rep=\"X_scVI_1.2\")\n",
    "sc.tl.umap(adata, min_dist=0.5)"
   ]
  },
  {
   "cell_type": "code",
   "execution_count": null,
   "id": "b6c98031-f328-4efc-8570-123023935cba",
   "metadata": {},
   "outputs": [],
   "source": [
    "# neighbors were already computed using scVI\n",
    "sc.tl.leiden(adata, key_added=\"leiden_scVI_1.2\", resolution=2)"
   ]
  },
  {
   "cell_type": "code",
   "execution_count": null,
   "id": "1bd85d5c-7e6d-4f7e-874f-f873ed68dfe9",
   "metadata": {},
   "outputs": [],
   "source": [
    "#Save anndata\n",
    "adata.write('EEDHet_WT_scVI_1.2.h5ad')"
   ]
  },
  {
   "cell_type": "code",
   "execution_count": null,
   "id": "88f5d2b7-91fc-4223-bebf-dc8eb4131e74",
   "metadata": {},
   "outputs": [],
   "source": [
    "#QC UMAPs\n",
    "sc.pl.umap(\n",
    "    adata,\n",
    "    color=[\"n_genes_by_counts\", \"total_counts\", \"pct_counts_mito\", \"log1p_total_counts\"],\n",
    "    cmap=\"cubehelix_r\",\n",
    "    s=3,\n",
    "    ncols=2,\n",
    ")"
   ]
  },
  {
   "cell_type": "code",
   "execution_count": null,
   "id": "46552005-c7d3-40af-8b30-f5d9589e8809",
   "metadata": {},
   "outputs": [],
   "source": [
    "fig, ax = plt.subplots(figsize=(12, 8))\n",
    "sc.pl.umap(adata, color=\"leiden_scVI_1.2\", legend_loc=\"on data\", ax=ax, s=3)\n",
    "fig, ax = plt.subplots(figsize=(12, 8))\n",
    "sc.pl.umap(adata, color=\"genotype\", cmap=\"cmo.matter\", s=3, ax=ax, vmax=\"p99.99\")\n",
    "fig, ax = plt.subplots(figsize=(12, 8))\n",
    "sc.pl.umap(adata, color=\"tdTomato\", legend_loc=\"right margin\", ax=ax, s=3, color_map=\"cmo.matter\",\n",
    "    frameon=False,\n",
    "    vmax=\"p99.5\",\n",
    "    layer=\"norm\",)"
   ]
  },
  {
   "cell_type": "code",
   "execution_count": null,
   "id": "d6011f22-2699-4798-8dd8-16e4efce3356",
   "metadata": {},
   "outputs": [],
   "source": [
    "#Plot Pct counts mito\n",
    "fig, ax = plt.subplots(figsize=(18,6))\n",
    "sns.boxenplot(data=adata.obs, x=\"leiden_scVI_1.2\", y=\"pct_counts_mito\", ax=ax)\n",
    "#Plot total counts\n",
    "fig, ax = plt.subplots(figsize=(18,6))\n",
    "sns.boxenplot(data=adata.obs, x=\"leiden_scVI_1.2\", y=\"total_counts\", ax=ax)"
   ]
  },
  {
   "cell_type": "code",
   "execution_count": null,
   "id": "1c1a2663-6808-47f8-97f3-bfa454f2d9a4",
   "metadata": {},
   "outputs": [],
   "source": [
    "#Feature plot \n",
    "genes = ['leiden_scVI_1.2','Gng13','Gng8','Ermn','Sox2','Ascl3', 'Cftr','Trp63','Top2a','Kit','Neurod1','Ascl1','tdTomato', 'Ptprc',\n",
    "         'Cd3e','C1qa', 'Ugt2a1','Cyp2a5']\n",
    "\n",
    "sc.pl.umap(\n",
    "    adata,\n",
    "    color=genes,\n",
    "    use_raw=False,\n",
    "    legend_loc= \"on data\",\n",
    "    color_map=\"cmo.matter\",\n",
    "    ncols=3,\n",
    "    frameon=False,\n",
    "    vmax=\"p99.5\",\n",
    "    layer=\"norm\",\n",
    "    save=False\n",
    ")"
   ]
  },
  {
   "cell_type": "code",
   "execution_count": null,
   "id": "977094b8-7a98-4c1a-a1eb-0482ac32f6f4",
   "metadata": {},
   "outputs": [],
   "source": [
    "#remove 43, 51\n",
    "#Identify and subset out bad clusters\n",
    "bad_clust=['43','51']\n",
    "\n",
    "#Filter out bad clusters\n",
    "to_keep=(~adata.obs['leiden_scVI_1.2'].isin(bad_clust))\n",
    "\n",
    "#Copy over to new anndata object\n",
    "adata = adata[to_keep].copy()"
   ]
  },
  {
   "cell_type": "markdown",
   "id": "ba840b95-5ad4-41be-adf0-1e70cc6e272b",
   "metadata": {},
   "source": [
    "# scVI model 3"
   ]
  },
  {
   "cell_type": "code",
   "execution_count": null,
   "id": "1efa84ca-abd3-41cc-9e2d-6275d45f9a6c",
   "metadata": {},
   "outputs": [],
   "source": [
    "sc.pp.highly_variable_genes(\n",
    "    adata,\n",
    "    n_top_genes=3000,\n",
    "    subset=False,\n",
    "    layer=\"counts\",\n",
    "    flavor=\"seurat_v3\",\n",
    "    batch_key=\"mouse_ident\"\n",
    ")"
   ]
  },
  {
   "cell_type": "code",
   "execution_count": null,
   "id": "5993b03b-ef82-4920-8d58-34072a525e56",
   "metadata": {},
   "outputs": [],
   "source": [
    "adata.var['mean_'] = np.array(adata.X.mean(0))[0]\n",
    "adata.var['frac_zero'] = 1 - np.array((adata.X > 0).sum(0))[0] / adata.shape[0]\n",
    "fig, ax = plt.subplots(figsize=(9,6))\n",
    "\n",
    "ax.scatter(adata.var.mean_, adata.var.frac_zero, s=1)\n",
    "ax.set_xscale(\"log\")"
   ]
  },
  {
   "cell_type": "code",
   "execution_count": null,
   "id": "c36b85ba-5352-403c-9051-ed97d9c766a6",
   "metadata": {},
   "outputs": [],
   "source": [
    "df_poisson = scvi.data.poisson_gene_selection(\n",
    "    adata, n_top_genes=3000, batch_key=\"mouse_ident\", inplace=False\n",
    ")"
   ]
  },
  {
   "cell_type": "code",
   "execution_count": null,
   "id": "e8861df3-d5c8-4f83-a0ff-5f8594544578",
   "metadata": {},
   "outputs": [],
   "source": [
    "df_poisson[df_poisson.highly_variable].sort_values('prob_zero_enrichment_rank')"
   ]
  },
  {
   "cell_type": "code",
   "execution_count": null,
   "id": "af94dc72-9bf0-4cd3-af86-257170c798f7",
   "metadata": {},
   "outputs": [],
   "source": [
    "pd.crosstab(df_poisson.highly_variable, adata.var.highly_variable)"
   ]
  },
  {
   "cell_type": "code",
   "execution_count": null,
   "id": "e4e01241-c803-4f08-884f-042f87cfad10",
   "metadata": {},
   "outputs": [],
   "source": [
    "is_hvg = df_poisson.highly_variable"
   ]
  },
  {
   "cell_type": "code",
   "execution_count": null,
   "id": "e61ceefa-5d84-43d5-ac1a-8fb331d9da81",
   "metadata": {},
   "outputs": [],
   "source": [
    "adata.varm['df_poisson']= df_poisson"
   ]
  },
  {
   "cell_type": "code",
   "execution_count": null,
   "id": "af0a84a2-345a-4136-be92-84e492e6a82e",
   "metadata": {},
   "outputs": [],
   "source": [
    "adata_query = adata[:, is_hvg].copy()\n",
    "print(adata_query)"
   ]
  },
  {
   "cell_type": "code",
   "execution_count": null,
   "id": "d10e50df-f1f1-4aef-93db-33cc96fe7345",
   "metadata": {},
   "outputs": [],
   "source": [
    "scvi.model.SCVI.setup_anndata(\n",
    "    adata_query,\n",
    "    layer=\"counts\",\n",
    "    categorical_covariate_keys=[\"genotype\"],\n",
    "    continuous_covariate_keys=[\"pct_counts_mito\"],\n",
    "    batch_key=\"mouse_ident\"\n",
    ")"
   ]
  },
  {
   "cell_type": "code",
   "execution_count": null,
   "id": "9f7e78cf-f9fb-4698-8971-935031b1151a",
   "metadata": {},
   "outputs": [],
   "source": [
    "model = scvi.model.SCVI(adata_query, gene_likelihood=\"nb\")"
   ]
  },
  {
   "cell_type": "code",
   "execution_count": null,
   "id": "f1db1e65-2811-4876-95ca-818d1e3d63f5",
   "metadata": {},
   "outputs": [],
   "source": [
    "model.view_anndata_setup()"
   ]
  },
  {
   "cell_type": "code",
   "execution_count": null,
   "id": "01b9a9b5-7cc4-470c-b2ab-ae149f068b45",
   "metadata": {},
   "outputs": [],
   "source": [
    "train_kwargs = dict(\n",
    "    early_stopping=True,\n",
    "    early_stopping_patience=20,\n",
    "    enable_model_summary=True,\n",
    "    enable_progress_bar=True,\n",
    "    enable_checkpointing=True,\n",
    "    max_epochs=500\n",
    ")"
   ]
  },
  {
   "cell_type": "code",
   "execution_count": null,
   "id": "8dd7880d-c949-42c7-8643-511379d16d91",
   "metadata": {},
   "outputs": [],
   "source": [
    "model.train(**train_kwargs)"
   ]
  },
  {
   "cell_type": "code",
   "execution_count": null,
   "id": "36449bd1-707f-4038-828b-5a23557bf5ab",
   "metadata": {},
   "outputs": [],
   "source": [
    "train_elbo = model.history['elbo_train'][1:]\n",
    "test_elbo = model.history['elbo_validation']\n",
    "\n",
    "ax = train_elbo.plot()\n",
    "test_elbo.plot(ax = ax)"
   ]
  },
  {
   "cell_type": "code",
   "execution_count": null,
   "id": "38357cfd-5d82-44a9-a7d9-7dc8c91a4821",
   "metadata": {},
   "outputs": [],
   "source": [
    "#Get latent representation of model to apply to UMAP\n",
    "latent = model.get_latent_representation()"
   ]
  },
  {
   "cell_type": "code",
   "execution_count": null,
   "id": "b5f79870-d156-42e6-abf0-9329d789d03a",
   "metadata": {},
   "outputs": [],
   "source": [
    "adata.obsm[\"X_scVI_1.3\"] = latent"
   ]
  },
  {
   "cell_type": "code",
   "execution_count": null,
   "id": "76d1ea0d-c8ec-4ba2-92c3-eab65402fea9",
   "metadata": {},
   "outputs": [],
   "source": [
    "sc.pp.neighbors(adata, use_rep=\"X_scVI_1.3\")\n",
    "sc.tl.umap(adata, min_dist=0.5)"
   ]
  },
  {
   "cell_type": "code",
   "execution_count": null,
   "id": "4dfc2f55-7f6e-418c-adce-7ef7f6e8be8b",
   "metadata": {},
   "outputs": [],
   "source": [
    "# neighbors were already computed using scVI\n",
    "sc.tl.leiden(adata, key_added=\"leiden_scVI_1.3\", resolution=2)"
   ]
  },
  {
   "cell_type": "code",
   "execution_count": null,
   "id": "b222363a-06d9-4cbc-ba2e-d41da039ea8e",
   "metadata": {},
   "outputs": [],
   "source": [
    "#Save anndata\n",
    "adata.write('EEDHet_WT_scVI_1.3.h5ad')"
   ]
  },
  {
   "cell_type": "code",
   "execution_count": null,
   "id": "353d0c82-efe5-4d8f-9a81-36f12c88be2b",
   "metadata": {},
   "outputs": [],
   "source": [
    "#QC UMAPs\n",
    "sc.pl.umap(\n",
    "    adata,\n",
    "    color=[\"n_genes_by_counts\", \"total_counts\", \"pct_counts_mito\", \"log1p_total_counts\"],\n",
    "    cmap=\"cubehelix_r\",\n",
    "    s=3,\n",
    "    ncols=2,\n",
    ")"
   ]
  },
  {
   "cell_type": "code",
   "execution_count": null,
   "id": "36112da9-260c-46b3-8455-027121f3db5d",
   "metadata": {},
   "outputs": [],
   "source": [
    "fig, ax = plt.subplots(figsize=(12, 8))\n",
    "sc.pl.umap(adata, color=\"leiden_scVI_1.3\", legend_loc=\"on data\", ax=ax, s=3)\n",
    "fig, ax = plt.subplots(figsize=(12, 8))\n",
    "sc.pl.umap(adata, color=\"genotype\", cmap=\"cmo.matter\", s=3, ax=ax, vmax=\"p99.99\")\n",
    "fig, ax = plt.subplots(figsize=(12, 8))\n",
    "sc.pl.umap(adata, color=\"tdTomato\", legend_loc=\"right margin\", ax=ax, s=3, color_map=\"cmo.matter\",\n",
    "    frameon=False,\n",
    "    vmax=\"p99.5\",\n",
    "    layer=\"norm\",)"
   ]
  },
  {
   "cell_type": "code",
   "execution_count": null,
   "id": "da6633cc-192f-4023-9617-616da5b23c90",
   "metadata": {},
   "outputs": [],
   "source": [
    "#Plot Pct counts mito\n",
    "fig, ax = plt.subplots(figsize=(18,6))\n",
    "sns.boxenplot(data=adata.obs, x=\"leiden_scVI_1.3\", y=\"pct_counts_mito\", ax=ax)\n",
    "#Plot total counts\n",
    "fig, ax = plt.subplots(figsize=(18,6))\n",
    "sns.boxenplot(data=adata.obs, x=\"leiden_scVI_1.3\", y=\"total_counts\", ax=ax)"
   ]
  },
  {
   "cell_type": "code",
   "execution_count": null,
   "id": "0d3828fc-a157-4158-b819-d8946ac4c202",
   "metadata": {},
   "outputs": [],
   "source": [
    "#Feature plot \n",
    "genes = ['leiden_scVI_1.3','Gng13','Gng8','Ermn','Sox2','Ascl3', 'Cftr','Trp63','Top2a','Kit','Neurod1','Ascl1','tdTomato', 'Ptprc',\n",
    "         'Cd3e','C1qa', 'Ugt2a1','Cyp2a5']\n",
    "\n",
    "sc.pl.umap(\n",
    "    adata,\n",
    "    color=genes,\n",
    "    use_raw=False,\n",
    "    legend_loc= \"on data\",\n",
    "    color_map=\"cmo.matter\",\n",
    "    ncols=3,\n",
    "    frameon=False,\n",
    "    vmax=\"p99.5\",\n",
    "    layer=\"norm\",\n",
    "    save=False\n",
    ")"
   ]
  },
  {
   "cell_type": "code",
   "execution_count": null,
   "id": "c4c56698-7ea9-465a-9366-988244ace7c8",
   "metadata": {},
   "outputs": [],
   "source": [
    "#remove clusters 49, 30, 24\n",
    "#Identify and subset out bad clusters\n",
    "bad_clust=['49','30','24']\n",
    "\n",
    "#Filter out bad clusters\n",
    "to_keep=(~adata.obs['leiden_scVI_1.3'].isin(bad_clust))\n",
    "\n",
    "#Copy over to new anndata object\n",
    "adata = adata[to_keep].copy()"
   ]
  },
  {
   "cell_type": "markdown",
   "id": "7557251f-962e-48da-8311-55e9a3285f30",
   "metadata": {},
   "source": [
    "# scVI model 4"
   ]
  },
  {
   "cell_type": "code",
   "execution_count": null,
   "id": "d706d7b4-3b32-491d-a6c2-75fdd123eae2",
   "metadata": {},
   "outputs": [],
   "source": [
    "sc.pp.highly_variable_genes(\n",
    "    adata,\n",
    "    n_top_genes=3000,\n",
    "    subset=False,\n",
    "    layer=\"counts\",\n",
    "    flavor=\"seurat_v3\",\n",
    "    batch_key=\"mouse_ident\"\n",
    ")"
   ]
  },
  {
   "cell_type": "code",
   "execution_count": null,
   "id": "aed3c09a-32b4-4e18-bfaf-9320ff9c5c57",
   "metadata": {},
   "outputs": [],
   "source": [
    "adata.var['mean_'] = np.array(adata.X.mean(0))[0]\n",
    "adata.var['frac_zero'] = 1 - np.array((adata.X > 0).sum(0))[0] / adata.shape[0]\n",
    "fig, ax = plt.subplots(figsize=(9,6))\n",
    "\n",
    "ax.scatter(adata.var.mean_, adata.var.frac_zero, s=1)\n",
    "ax.set_xscale(\"log\")"
   ]
  },
  {
   "cell_type": "code",
   "execution_count": null,
   "id": "9ee0fc33-6e71-4a5e-83c7-bf29a1676a39",
   "metadata": {},
   "outputs": [],
   "source": [
    "df_poisson = scvi.data.poisson_gene_selection(\n",
    "    adata, n_top_genes=3000, batch_key=\"mouse_ident\", inplace=False\n",
    ")"
   ]
  },
  {
   "cell_type": "code",
   "execution_count": null,
   "id": "d804f5ab-19f2-4c46-a382-5df27c09f26b",
   "metadata": {},
   "outputs": [],
   "source": [
    "df_poisson[df_poisson.highly_variable].sort_values('prob_zero_enrichment_rank')"
   ]
  },
  {
   "cell_type": "code",
   "execution_count": null,
   "id": "41ff7107-35d5-4a3f-a467-c9967b1600cc",
   "metadata": {},
   "outputs": [],
   "source": [
    "pd.crosstab(df_poisson.highly_variable, adata.var.highly_variable)"
   ]
  },
  {
   "cell_type": "code",
   "execution_count": null,
   "id": "ab0dce11-a739-4db6-80ab-9cc51eaa9793",
   "metadata": {},
   "outputs": [],
   "source": [
    "is_hvg = df_poisson.highly_variable"
   ]
  },
  {
   "cell_type": "code",
   "execution_count": null,
   "id": "7e316039-5436-4656-b624-460d3cbb0cd8",
   "metadata": {},
   "outputs": [],
   "source": [
    "adata.varm['df_poisson']= df_poisson"
   ]
  },
  {
   "cell_type": "code",
   "execution_count": null,
   "id": "3920d083-dbf4-4566-b84c-4bbcde8b5bfa",
   "metadata": {},
   "outputs": [],
   "source": [
    "adata_query = adata[:, is_hvg].copy()\n",
    "print(adata_query)"
   ]
  },
  {
   "cell_type": "code",
   "execution_count": null,
   "id": "9b83aefe-724d-4b9c-b4f9-bd87a8a66785",
   "metadata": {},
   "outputs": [],
   "source": [
    "scvi.model.SCVI.setup_anndata(\n",
    "    adata_query,\n",
    "    layer=\"counts\",\n",
    "    categorical_covariate_keys=[\"genotype\"],\n",
    "    continuous_covariate_keys=[\"pct_counts_mito\"],\n",
    "    batch_key=\"mouse_ident\"\n",
    ")"
   ]
  },
  {
   "cell_type": "code",
   "execution_count": null,
   "id": "1d3c3c0c-3c16-48a3-ad1e-6e45abc1c647",
   "metadata": {},
   "outputs": [],
   "source": [
    "model = scvi.model.SCVI(adata_query, gene_likelihood=\"nb\")"
   ]
  },
  {
   "cell_type": "code",
   "execution_count": null,
   "id": "ebf3fa55-a86f-4ddb-8da0-245b342b94e7",
   "metadata": {},
   "outputs": [],
   "source": [
    "model.view_anndata_setup()"
   ]
  },
  {
   "cell_type": "code",
   "execution_count": null,
   "id": "0867f1a7-b863-4897-b0db-28616ae68bd4",
   "metadata": {},
   "outputs": [],
   "source": [
    "train_kwargs = dict(\n",
    "    early_stopping=True,\n",
    "    early_stopping_patience=20,\n",
    "    enable_model_summary=True,\n",
    "    enable_progress_bar=True,\n",
    "    enable_checkpointing=True,\n",
    "    max_epochs=500\n",
    ")"
   ]
  },
  {
   "cell_type": "code",
   "execution_count": null,
   "id": "2a5e558b-b48a-41ff-84e1-c3c7a6337c99",
   "metadata": {},
   "outputs": [],
   "source": [
    "model.train(**train_kwargs)"
   ]
  },
  {
   "cell_type": "code",
   "execution_count": null,
   "id": "448a1415-ae05-49ad-b85d-fe544381442f",
   "metadata": {},
   "outputs": [],
   "source": [
    "train_elbo = model.history['elbo_train'][1:]\n",
    "test_elbo = model.history['elbo_validation']\n",
    "\n",
    "ax = train_elbo.plot()\n",
    "test_elbo.plot(ax = ax)"
   ]
  },
  {
   "cell_type": "code",
   "execution_count": null,
   "id": "881d5b67-20e6-49eb-8ff7-bb778dca73ab",
   "metadata": {},
   "outputs": [],
   "source": [
    "#Get latent representation of model to apply to UMAP\n",
    "latent = model.get_latent_representation()"
   ]
  },
  {
   "cell_type": "code",
   "execution_count": null,
   "id": "4a392f49-284a-42f4-8bf1-dfb24d7f2426",
   "metadata": {},
   "outputs": [],
   "source": [
    "adata.obsm[\"X_scVI_1.4\"] = latent"
   ]
  },
  {
   "cell_type": "code",
   "execution_count": null,
   "id": "a6b93b9f-33ca-463f-9e19-d90722c39d48",
   "metadata": {},
   "outputs": [],
   "source": [
    "sc.pp.neighbors(adata, use_rep=\"X_scVI_1.4\")\n",
    "sc.tl.umap(adata, min_dist=0.5)"
   ]
  },
  {
   "cell_type": "code",
   "execution_count": null,
   "id": "b1d6eb0c-ea1a-4e8e-bef3-736b133e1f7f",
   "metadata": {},
   "outputs": [],
   "source": [
    "# neighbors were already computed using scVI\n",
    "sc.tl.leiden(adata, key_added=\"leiden_scVI_1.4\", resolution=2)"
   ]
  },
  {
   "cell_type": "code",
   "execution_count": null,
   "id": "fbffd972-092c-4afe-9398-0ef622a8bf41",
   "metadata": {},
   "outputs": [],
   "source": [
    "#Save anndata\n",
    "adata.write('EEDHet_WT_scVI_1.4.h5ad')"
   ]
  },
  {
   "cell_type": "code",
   "execution_count": null,
   "id": "c8aa994e-417e-4173-9789-a2200a02fcba",
   "metadata": {},
   "outputs": [],
   "source": [
    "#Read anndata\n",
    "adata=sc.read_h5ad('EEDHet_WT_scVI_1.4.h5ad')"
   ]
  },
  {
   "cell_type": "code",
   "execution_count": null,
   "id": "2ef5ede7-73ca-4c22-87d8-f886afb8b365",
   "metadata": {},
   "outputs": [],
   "source": [
    "#QC UMAPs\n",
    "sc.pl.umap(\n",
    "    adata,\n",
    "    color=[\"n_genes_by_counts\", \"total_counts\", \"pct_counts_mito\", \"log1p_total_counts\"],\n",
    "    cmap=\"cubehelix_r\",\n",
    "    s=3,\n",
    "    ncols=2,\n",
    ")"
   ]
  },
  {
   "cell_type": "code",
   "execution_count": null,
   "id": "b8bf461d-f0ca-4f7b-aef4-6c3848c29ff3",
   "metadata": {},
   "outputs": [],
   "source": [
    "fig, ax = plt.subplots(figsize=(12, 8))\n",
    "sc.pl.umap(adata, color=\"leiden_scVI_1.4\", legend_loc=\"on data\", ax=ax, s=3)\n",
    "fig, ax = plt.subplots(figsize=(12, 8))\n",
    "sc.pl.umap(adata, color=\"genotype\", cmap=\"cmo.matter\", s=3, ax=ax, vmax=\"p99.99\")\n",
    "fig, ax = plt.subplots(figsize=(12, 8))\n",
    "sc.pl.umap(adata, color=\"tdTomato\", legend_loc=\"right margin\", ax=ax, s=3, color_map=\"cmo.matter\",\n",
    "    frameon=False,\n",
    "    vmax=\"p99.5\",\n",
    "    layer=\"norm\",)\n",
    "fig, ax = plt.subplots(figsize=(12, 8))\n",
    "sc.pl.umap(adata, color=\"mouse_ident\", legend_loc=\"right margin\", ax=ax, s=5)"
   ]
  },
  {
   "cell_type": "code",
   "execution_count": null,
   "id": "7c0fae79-f696-46fd-b934-38e86f5ccf74",
   "metadata": {},
   "outputs": [],
   "source": [
    "#Plot Pct counts mito\n",
    "fig, ax = plt.subplots(figsize=(18,6))\n",
    "sns.boxenplot(data=adata.obs, x=\"leiden_scVI_1.4\", y=\"pct_counts_mito\", ax=ax)\n",
    "#Plot total counts\n",
    "fig, ax = plt.subplots(figsize=(18,6))\n",
    "sns.boxenplot(data=adata.obs, x=\"leiden_scVI_1.4\", y=\"total_counts\", ax=ax)"
   ]
  },
  {
   "cell_type": "code",
   "execution_count": null,
   "id": "4a40eb09-8936-4ac6-afb9-f7046579ea59",
   "metadata": {},
   "outputs": [],
   "source": [
    "#Feature plot \n",
    "genes = ['leiden_scVI_1.4','Gng13','Gng8', 'Stoml3','Omp',\n",
    "         'Ermn','Cyp2a5','Sox2','Ascl3', 'Cftr',\n",
    "         'Trp63','Top2a','Ugt2a1','Kit', 'Eed','Ezh2',\n",
    "         'Neurod1','Ascl1','tdTomato', 'Ptprc', 'Cd3e','C1qa',\n",
    "        'S100b','Plp1']\n",
    "\n",
    "sc.pl.umap(\n",
    "    adata,\n",
    "    color=genes,\n",
    "    use_raw=False,\n",
    "    legend_loc= \"on data\",\n",
    "    color_map=\"cmo.matter\",\n",
    "    ncols=3,\n",
    "    frameon=False,\n",
    "    vmax=\"p99.5\",\n",
    "    layer=\"norm\",\n",
    "    save=False\n",
    ")"
   ]
  },
  {
   "cell_type": "code",
   "execution_count": null,
   "id": "29fb7177-fc3c-4174-ae1d-5a8fa365f923",
   "metadata": {},
   "outputs": [],
   "source": [
    "#Find cluster markers (from unbiased scvi clustering)\n",
    "sc.tl.rank_genes_groups(adata, 'leiden_scVI_1.4', method='wilcoxon', layer='norm', use_raw=False)\n",
    "pd.DataFrame(adata.uns['rank_genes_groups']['names']).head(30)"
   ]
  },
  {
   "cell_type": "code",
   "execution_count": null,
   "id": "452ba209-26d6-4225-823a-a83e6618e315",
   "metadata": {},
   "outputs": [],
   "source": [
    "EEDKO_HET_WT_cluster_biomarkers=pd.DataFrame(adata.uns['rank_genes_groups']['names']).head(50)\n",
    "EEDKO_HET_WT_cluster_biomarkers.to_csv('./EEDK_HET_WT_cluster_biomarkers_scVI1.4.csv')"
   ]
  },
  {
   "cell_type": "code",
   "execution_count": null,
   "id": "709a090f-2228-4539-be6c-289bd65d990f",
   "metadata": {},
   "outputs": [],
   "source": [
    "\n",
    "#Identify and subset out bad clusters\n",
    "bad_clust=['8','35','46','47','48','49','50','51','52','53','54','55']\n",
    "\n",
    "#Filter out bad clusters\n",
    "to_keep=(~adata.obs['leiden_scVI_1.4'].isin(bad_clust))\n",
    "\n",
    "#Copy over to new anndata object\n",
    "adata = adata[to_keep].copy()"
   ]
  },
  {
   "cell_type": "markdown",
   "id": "c5268a2b-7273-49d3-80d8-651cd09bd80e",
   "metadata": {},
   "source": [
    "# scVI model 5 "
   ]
  },
  {
   "cell_type": "code",
   "execution_count": null,
   "id": "89d85a44-7129-4ca7-95c0-dbc72f181226",
   "metadata": {},
   "outputs": [],
   "source": [
    "#batch = genotype\n",
    "sc.pp.highly_variable_genes(\n",
    "    adata,\n",
    "    n_top_genes=3000,\n",
    "    subset=False,\n",
    "    layer=\"counts\",\n",
    "    flavor=\"seurat_v3\",\n",
    "    batch_key=\"genotype\"\n",
    ")"
   ]
  },
  {
   "cell_type": "code",
   "execution_count": null,
   "id": "e38347b6-a5cf-46dd-b847-408fb73999a2",
   "metadata": {},
   "outputs": [],
   "source": [
    "adata.var['mean_'] = np.array(adata.X.mean(0))[0]\n",
    "adata.var['frac_zero'] = 1 - np.array((adata.X > 0).sum(0))[0] / adata.shape[0]\n",
    "fig, ax = plt.subplots(figsize=(9,6))\n",
    "\n",
    "ax.scatter(adata.var.mean_, adata.var.frac_zero, s=1)\n",
    "ax.set_xscale(\"log\")"
   ]
  },
  {
   "cell_type": "code",
   "execution_count": null,
   "id": "095a087e-5efd-45b3-a334-4bcae031ba69",
   "metadata": {},
   "outputs": [],
   "source": [
    "df_poisson = scvi.data.poisson_gene_selection(\n",
    "    adata, n_top_genes=3000, batch_key=\"genotype\", inplace=False\n",
    ")"
   ]
  },
  {
   "cell_type": "code",
   "execution_count": null,
   "id": "2a3d94a9-787d-4064-a155-1a5089303270",
   "metadata": {},
   "outputs": [],
   "source": [
    "df_poisson[df_poisson.highly_variable].sort_values('prob_zero_enrichment_rank')"
   ]
  },
  {
   "cell_type": "code",
   "execution_count": null,
   "id": "24e7068c-9295-4782-ae68-4e4dfdbdfd35",
   "metadata": {},
   "outputs": [],
   "source": [
    "pd.crosstab(df_poisson.highly_variable, adata.var.highly_variable)"
   ]
  },
  {
   "cell_type": "code",
   "execution_count": null,
   "id": "78e62cb8-484a-405f-a9a3-cc974b9c2c61",
   "metadata": {},
   "outputs": [],
   "source": [
    "is_hvg = df_poisson.highly_variable"
   ]
  },
  {
   "cell_type": "code",
   "execution_count": null,
   "id": "18d7abb3-8d4c-4044-b7e3-1e60cb26613c",
   "metadata": {},
   "outputs": [],
   "source": [
    "adata.varm['df_poisson']= df_poisson"
   ]
  },
  {
   "cell_type": "code",
   "execution_count": null,
   "id": "5f288e04-57c9-4e44-a8ab-e41d056904f0",
   "metadata": {},
   "outputs": [],
   "source": [
    "adata_query = adata[:, is_hvg].copy()\n",
    "print(adata_query)"
   ]
  },
  {
   "cell_type": "code",
   "execution_count": null,
   "id": "8078828a-8620-4d42-a5ed-d4a9c6243239",
   "metadata": {},
   "outputs": [],
   "source": [
    "scvi.model.SCVI.setup_anndata(\n",
    "    adata_query,\n",
    "    layer=\"counts\",\n",
    "    categorical_covariate_keys=[\"genotype\"],\n",
    "    continuous_covariate_keys=[\"pct_counts_mito\"],\n",
    "    batch_key=\"genotype\"\n",
    ")"
   ]
  },
  {
   "cell_type": "code",
   "execution_count": null,
   "id": "dbf596eb-b5c7-46bd-951f-da0928d70538",
   "metadata": {},
   "outputs": [],
   "source": [
    "model = scvi.model.SCVI(adata_query, gene_likelihood=\"nb\")"
   ]
  },
  {
   "cell_type": "code",
   "execution_count": null,
   "id": "42e93f5a-3242-4642-99a3-1454e6694cec",
   "metadata": {},
   "outputs": [],
   "source": [
    "model.view_anndata_setup()"
   ]
  },
  {
   "cell_type": "code",
   "execution_count": null,
   "id": "bef4a5c0-61ef-4891-86f9-2451d292a283",
   "metadata": {},
   "outputs": [],
   "source": [
    "train_kwargs = dict(\n",
    "    early_stopping=True,\n",
    "    early_stopping_patience=20,\n",
    "    enable_model_summary=True,\n",
    "    enable_progress_bar=True,\n",
    "    enable_checkpointing=True,\n",
    "    max_epochs=500\n",
    ")"
   ]
  },
  {
   "cell_type": "code",
   "execution_count": null,
   "id": "a8e83a4a-79d7-4859-b7aa-da4753700e4a",
   "metadata": {},
   "outputs": [],
   "source": [
    "model.train(**train_kwargs)"
   ]
  },
  {
   "cell_type": "code",
   "execution_count": null,
   "id": "43c503fd-0b13-422b-b13c-68834e7e1976",
   "metadata": {},
   "outputs": [],
   "source": [
    "train_elbo = model.history['elbo_train'][1:]\n",
    "test_elbo = model.history['elbo_validation']\n",
    "\n",
    "ax = train_elbo.plot()\n",
    "test_elbo.plot(ax = ax)"
   ]
  },
  {
   "cell_type": "code",
   "execution_count": null,
   "id": "0266fc2e-32fa-4632-a099-9968d7fbc609",
   "metadata": {},
   "outputs": [],
   "source": [
    "#Get latent representation of model to apply to UMAP\n",
    "latent = model.get_latent_representation()"
   ]
  },
  {
   "cell_type": "code",
   "execution_count": null,
   "id": "3f90cce8-4b74-43f0-bc1f-2f8516910d59",
   "metadata": {},
   "outputs": [],
   "source": [
    "adata.obsm[\"X_scVI_1.5\"] = latent"
   ]
  },
  {
   "cell_type": "code",
   "execution_count": null,
   "id": "2fe57129-47b4-48ca-8c41-f4b79238124d",
   "metadata": {},
   "outputs": [],
   "source": [
    "sc.pp.neighbors(adata, use_rep=\"X_scVI_1.5\")\n",
    "sc.tl.umap(adata, min_dist=0.5)"
   ]
  },
  {
   "cell_type": "code",
   "execution_count": null,
   "id": "7b8c1fe8-4fdf-4752-a66c-6822ac802854",
   "metadata": {},
   "outputs": [],
   "source": [
    "# neighbors were already computed using scVI\n",
    "sc.tl.leiden(adata, key_added=\"leiden_scVI_1.5\", resolution=1.3)"
   ]
  },
  {
   "cell_type": "code",
   "execution_count": null,
   "id": "3e18ecf3-402c-478b-ba1f-61ae3ee918e4",
   "metadata": {},
   "outputs": [],
   "source": [
    "#Save anndata\n",
    "adata.write('EEDKO_Het_WT_scVI_1.5.h5ad')"
   ]
  },
  {
   "cell_type": "code",
   "execution_count": null,
   "id": "b1c268d0-a78b-4e4c-bb38-d9472ff0b51a",
   "metadata": {},
   "outputs": [],
   "source": [
    "#Read anndata\n",
    "adata=sc.read_h5ad('EEDKO_Het_WT_scVI_1.5.h5ad')"
   ]
  },
  {
   "cell_type": "code",
   "execution_count": null,
   "id": "4000dfad-9c1a-4b6f-98c6-96f7cdcbc727",
   "metadata": {},
   "outputs": [],
   "source": [
    "#QC UMAPs\n",
    "sc.pl.umap(\n",
    "    adata,\n",
    "    color=[\"n_genes_by_counts\", \"total_counts\", \"pct_counts_mito\", \"log1p_total_counts\"],\n",
    "    cmap=\"cubehelix_r\",\n",
    "    s=3,\n",
    "    ncols=2,\n",
    ")"
   ]
  },
  {
   "cell_type": "code",
   "execution_count": null,
   "id": "c8611f9d-d717-4b29-928a-104401d97e86",
   "metadata": {},
   "outputs": [],
   "source": [
    "fig, ax = plt.subplots(figsize=(12, 8))\n",
    "sc.pl.umap(adata, color=\"leiden_scVI_1.5\", legend_loc=\"on data\", ax=ax, s=3)\n",
    "fig, ax = plt.subplots(figsize=(12, 8))\n",
    "sc.pl.umap(adata, color=\"genotype\", cmap=\"cmo.matter\", s=2, ax=ax, vmax=\"p99.99\")\n",
    "fig, ax = plt.subplots(figsize=(12, 8))\n",
    "sc.pl.umap(adata, color=\"tdTomato\", legend_loc=\"right margin\", ax=ax, s=3, color_map=\"cmo.matter\",\n",
    "    frameon=False,\n",
    "    vmax=\"p99.5\",\n",
    "    layer=\"norm\",)\n",
    "fig, ax = plt.subplots(figsize=(12, 8))\n",
    "sc.pl.umap(adata, color=\"mouse_ident\", legend_loc=\"right margin\", ax=ax, s=3)"
   ]
  },
  {
   "cell_type": "code",
   "execution_count": null,
   "id": "625b2345-13bb-4a4c-95ae-40bd4aba2871",
   "metadata": {},
   "outputs": [],
   "source": [
    "#Plot Pct counts mito\n",
    "fig, ax = plt.subplots(figsize=(18,6))\n",
    "sns.boxenplot(data=adata.obs, x=\"leiden_scVI_1.5\", y=\"pct_counts_mito\", ax=ax)\n",
    "#Plot total counts\n",
    "fig, ax = plt.subplots(figsize=(18,6))\n",
    "sns.boxenplot(data=adata.obs, x=\"leiden_scVI_1.5\", y=\"total_counts\", ax=ax)"
   ]
  },
  {
   "cell_type": "code",
   "execution_count": null,
   "id": "94c0d19d-9c8c-45f5-9b51-5f61e5d642a2",
   "metadata": {},
   "outputs": [],
   "source": [
    "#Feature plot \n",
    "genes = ['leiden_scVI_1.5','Gng13','Gng8', \n",
    "         'Ermn','Cyp2a5','Sox2',\n",
    "         'Tmprss2','Ascl3', 'Cftr',\n",
    "         'Plp1','S100b','Lum',\n",
    "         'Dcn','Sox9','Sox10',\n",
    "         'Trp63','Krt5','Top2a',\n",
    "         'Kit', 'Eed','Ezh2',\n",
    "         'Ascl1','Neurod1','tdTomato',\n",
    "         'Ptprc', 'Cd3e','C1qa',\n",
    "         'Cd4','Cd14',\n",
    "        'Trpm5']\n",
    "\n",
    "sc.pl.umap(\n",
    "    adata,\n",
    "    color=genes,\n",
    "    use_raw=False,\n",
    "    legend_loc= \"on data\",\n",
    "    color_map=\"cmo.matter\",\n",
    "    ncols=3,\n",
    "    frameon=False,\n",
    "    vmax=\"p99.5\",\n",
    "    layer=\"norm\",\n",
    "    save=False\n",
    ")\n",
    "#check 22, 21, 32, "
   ]
  },
  {
   "cell_type": "code",
   "execution_count": null,
   "id": "bd99309b-3259-449c-a423-16bf15df2c94",
   "metadata": {},
   "outputs": [],
   "source": [
    "#Find cluster markers (from unbiased scvi clustering)\n",
    "sc.tl.rank_genes_groups(adata, 'leiden_scVI_1.5', method='wilcoxon', layer='norm', use_raw=False)\n",
    "EEDKO_HET_WT_cluster_biomarkers=pd.DataFrame(adata.uns['rank_genes_groups']['names']).head(50)\n",
    "EEDKO_HET_WT_cluster_biomarkers.to_csv('./EEDKO_HET_WT_cluster_biomarkers_scVI1.5.csv')"
   ]
  },
  {
   "cell_type": "code",
   "execution_count": null,
   "id": "71fe6ef5-b8eb-4aae-9cb5-221015043671",
   "metadata": {},
   "outputs": [],
   "source": [
    "cols={\"het\":\"darkorchid\",\n",
    "     \"ko\":\"orange\",\n",
    "     \"wt\":\"dodgerblue\"}\n",
    "fig, ax = plt.subplots(figsize=(12, 8))\n",
    "sc.pl.umap(adata, color=\"genotype\", cmap=\"cmo.matter\", s=6, ax=ax, vmax=\"p99.99\", palette=cols)\n",
    "fig, ax = plt.subplots(figsize=(12, 8))\n",
    "sc.pl.umap(adata, color=\"leiden_scVI_1.5\", legend_loc=\"on data\", ax=ax, s=3)"
   ]
  },
  {
   "cell_type": "code",
   "execution_count": null,
   "id": "d79df4d8-f4d1-4f56-a4cd-23b54a22555e",
   "metadata": {},
   "outputs": [],
   "source": [
    "#remove 17, 35, 27\n",
    "#Identify and subset out bad clusters\n",
    "bad_clust=['17','35','27']\n",
    "\n",
    "#Filter out bad clusters\n",
    "to_keep=(~adata.obs['leiden_scVI_1.5'].isin(bad_clust))\n",
    "\n",
    "#Copy over to new anndata object\n",
    "adata = adata[to_keep].copy()"
   ]
  },
  {
   "cell_type": "markdown",
   "id": "0e4d853e-3a53-4857-9816-390032858744",
   "metadata": {},
   "source": [
    "# scVI model 6"
   ]
  },
  {
   "cell_type": "code",
   "execution_count": null,
   "id": "8373416a-60a1-4bab-b58f-96abcd042df3",
   "metadata": {},
   "outputs": [],
   "source": [
    "#batch = genotype\n",
    "sc.pp.highly_variable_genes(\n",
    "    adata,\n",
    "    n_top_genes=3000,\n",
    "    subset=False,\n",
    "    layer=\"counts\",\n",
    "    flavor=\"seurat_v3\",\n",
    "    batch_key=\"genotype\"\n",
    ")"
   ]
  },
  {
   "cell_type": "code",
   "execution_count": null,
   "id": "db68e03d-0204-4dc7-9410-d99626ea2936",
   "metadata": {},
   "outputs": [],
   "source": [
    "adata.var['mean_'] = np.array(adata.X.mean(0))[0]\n",
    "adata.var['frac_zero'] = 1 - np.array((adata.X > 0).sum(0))[0] / adata.shape[0]\n",
    "fig, ax = plt.subplots(figsize=(9,6))\n",
    "\n",
    "ax.scatter(adata.var.mean_, adata.var.frac_zero, s=1)\n",
    "ax.set_xscale(\"log\")"
   ]
  },
  {
   "cell_type": "code",
   "execution_count": null,
   "id": "8cf8bb6b-7811-441b-a893-412600132083",
   "metadata": {},
   "outputs": [],
   "source": [
    "df_poisson = scvi.data.poisson_gene_selection(\n",
    "    adata, n_top_genes=3000, batch_key=\"genotype\", inplace=False\n",
    ")"
   ]
  },
  {
   "cell_type": "code",
   "execution_count": null,
   "id": "c3746bf6-0bac-4ad1-8e86-937d48b99fde",
   "metadata": {},
   "outputs": [],
   "source": [
    "df_poisson[df_poisson.highly_variable].sort_values('prob_zero_enrichment_rank')"
   ]
  },
  {
   "cell_type": "code",
   "execution_count": null,
   "id": "207330d8-fdd3-4cfb-a32a-4551fc8e7cc3",
   "metadata": {},
   "outputs": [],
   "source": [
    "pd.crosstab(df_poisson.highly_variable, adata.var.highly_variable)"
   ]
  },
  {
   "cell_type": "code",
   "execution_count": null,
   "id": "281ca506-fe1b-4303-9df1-4a39df7b5233",
   "metadata": {},
   "outputs": [],
   "source": [
    "is_hvg = df_poisson.highly_variable"
   ]
  },
  {
   "cell_type": "code",
   "execution_count": null,
   "id": "3646963b-0385-4f59-860d-8bd27b44f352",
   "metadata": {},
   "outputs": [],
   "source": [
    "adata.varm['df_poisson']= df_poisson"
   ]
  },
  {
   "cell_type": "code",
   "execution_count": null,
   "id": "46aee2ae-a703-48e9-aeac-fa708dc44724",
   "metadata": {},
   "outputs": [],
   "source": [
    "adata_query = adata[:, is_hvg].copy()\n",
    "print(adata_query)"
   ]
  },
  {
   "cell_type": "code",
   "execution_count": null,
   "id": "0e12dc1e-9f8d-495a-8bc5-922a358fde68",
   "metadata": {},
   "outputs": [],
   "source": [
    "scvi.model.SCVI.setup_anndata(\n",
    "    adata_query,\n",
    "    layer=\"counts\",\n",
    "    categorical_covariate_keys=[\"genotype\"],\n",
    "    continuous_covariate_keys=[\"pct_counts_mito\"],\n",
    "    batch_key=\"genotype\"\n",
    ")"
   ]
  },
  {
   "cell_type": "code",
   "execution_count": null,
   "id": "b4e66729-1c1e-4294-a9a4-65d4c73fd5a1",
   "metadata": {},
   "outputs": [],
   "source": [
    "model = scvi.model.SCVI(adata_query, gene_likelihood=\"nb\")"
   ]
  },
  {
   "cell_type": "code",
   "execution_count": null,
   "id": "fbbfce2a-e0b3-4d39-bc7a-988ac7740e5a",
   "metadata": {},
   "outputs": [],
   "source": [
    "model.view_anndata_setup()"
   ]
  },
  {
   "cell_type": "code",
   "execution_count": null,
   "id": "b62ba38e-aaf6-45d1-b55f-890271569c72",
   "metadata": {},
   "outputs": [],
   "source": [
    "train_kwargs = dict(\n",
    "    early_stopping=True,\n",
    "    early_stopping_patience=20,\n",
    "    enable_model_summary=True,\n",
    "    enable_progress_bar=True,\n",
    "    enable_checkpointing=True,\n",
    "    max_epochs=600\n",
    ")"
   ]
  },
  {
   "cell_type": "code",
   "execution_count": null,
   "id": "c497a9a5-7ee1-4231-a48d-f45608b695d2",
   "metadata": {},
   "outputs": [],
   "source": [
    "model.train(**train_kwargs)"
   ]
  },
  {
   "cell_type": "code",
   "execution_count": null,
   "id": "d0246612-eeaf-4445-afc9-461c7cad527a",
   "metadata": {},
   "outputs": [],
   "source": [
    "train_elbo = model.history['elbo_train'][1:]\n",
    "test_elbo = model.history['elbo_validation']\n",
    "\n",
    "ax = train_elbo.plot()\n",
    "test_elbo.plot(ax = ax)"
   ]
  },
  {
   "cell_type": "code",
   "execution_count": null,
   "id": "09f17f98-7b09-4d3f-a37e-1961f2ff6ddc",
   "metadata": {},
   "outputs": [],
   "source": [
    "#Get latent representation of model to apply to UMAP\n",
    "latent = model.get_latent_representation()"
   ]
  },
  {
   "cell_type": "code",
   "execution_count": null,
   "id": "6b0fe4cd-c1ea-42f9-b8d6-aff176fdc093",
   "metadata": {},
   "outputs": [],
   "source": [
    "adata.obsm[\"X_scVI_1.6.1\"] = latent"
   ]
  },
  {
   "cell_type": "code",
   "execution_count": null,
   "id": "94aae45f-bc56-43bd-8442-f1bd77cea87d",
   "metadata": {},
   "outputs": [],
   "source": [
    "sc.pp.neighbors(adata, use_rep=\"X_scVI_1.6.1\")\n",
    "sc.tl.umap(adata, min_dist=0.5)"
   ]
  },
  {
   "cell_type": "code",
   "execution_count": null,
   "id": "a94a5428-bc3f-4a4a-a68c-f493f539bd23",
   "metadata": {},
   "outputs": [],
   "source": [
    "# neighbors were already computed using scVI\n",
    "sc.tl.leiden(adata, key_added=\"leiden_scVI_1.6.1\", resolution=1.5)"
   ]
  },
  {
   "cell_type": "code",
   "execution_count": null,
   "id": "f751ecf7-5b3b-464b-8924-2f437389d574",
   "metadata": {},
   "outputs": [],
   "source": [
    "#Save anndata\n",
    "adata.write('EEDKO_Het_WT_scVI_1.6.1.h5ad')"
   ]
  },
  {
   "cell_type": "code",
   "execution_count": null,
   "id": "a4f8f3a8-a1b9-4bfa-ba87-26cb88e678b8",
   "metadata": {},
   "outputs": [],
   "source": [
    "#Read anndata\n",
    "adata=sc.read_h5ad('EEDKO_Het_WT_scVI_1.6.1.h5ad')"
   ]
  },
  {
   "cell_type": "code",
   "execution_count": null,
   "id": "36cf86d1-2ec5-47d2-b25a-e1f3dad9b7cf",
   "metadata": {},
   "outputs": [],
   "source": [
    "adata"
   ]
  },
  {
   "cell_type": "code",
   "execution_count": null,
   "id": "2f6ef8f5-7f48-4260-9de6-16c23f6617b1",
   "metadata": {},
   "outputs": [],
   "source": [
    "#QC UMAPs\n",
    "sc.pl.umap(\n",
    "    adata,\n",
    "    color=[\"n_genes_by_counts\", \"total_counts\", \"pct_counts_mito\", \"log1p_total_counts\"],\n",
    "    cmap=\"cubehelix_r\",\n",
    "    s=3,\n",
    "    ncols=2,\n",
    ")"
   ]
  },
  {
   "cell_type": "code",
   "execution_count": null,
   "id": "cf63b5c3-ca9e-4462-b520-5a4844e34b02",
   "metadata": {},
   "outputs": [],
   "source": [
    "fig, ax = plt.subplots(figsize=(12, 8))\n",
    "sc.pl.umap(adata, color=\"leiden_scVI_1.6.1\", legend_loc=\"on data\", ax=ax, s=3)\n",
    "fig, ax = plt.subplots(figsize=(12, 8))\n",
    "sc.pl.umap(adata, color=\"genotype\", cmap=\"cmo.matter\", s=2, ax=ax, vmax=\"p99.99\")\n",
    "fig, ax = plt.subplots(figsize=(12, 8))\n",
    "sc.pl.umap(adata, color=\"tdTomato\", legend_loc=\"right margin\", ax=ax, s=3, color_map=\"cmo.matter\",\n",
    "    frameon=False,\n",
    "    vmax=\"p99.5\",\n",
    "    layer=\"norm\",)\n",
    "fig, ax = plt.subplots(figsize=(12, 8))\n",
    "sc.pl.umap(adata, color=\"mouse_ident\", legend_loc=\"right margin\", ax=ax, s=3)"
   ]
  },
  {
   "cell_type": "code",
   "execution_count": null,
   "id": "d00861ba-4519-4496-bc27-1a6db60b171c",
   "metadata": {},
   "outputs": [],
   "source": [
    "fig, ax = plt.subplots(figsize=(18,6))\n",
    "sns.boxenplot(data=adata_olf.obs, x=\"leiden_scVI_1.6.1\", y=\"pct_counts_mito\", ax=ax)\n",
    "#Plot total counts\n",
    "fig, ax = plt.subplots(figsize=(18,6))\n",
    "sns.boxenplot(data=adata_olf.obs, x=\"leiden_scVI_1.6.1\", y=\"total_counts\", ax=ax)"
   ]
  },
  {
   "cell_type": "code",
   "execution_count": null,
   "id": "8db5f1dd-469b-4844-80b2-a4c6b09c4f04",
   "metadata": {},
   "outputs": [],
   "source": [
    "#Read anndata\n",
    "adata=sc.read_h5ad('EEDKO_Het_WT_scVI_1.6.1.h5ad')"
   ]
  },
  {
   "cell_type": "code",
   "execution_count": null,
   "id": "6e2f23e5-0d5f-4f3c-a90a-9a515c44540b",
   "metadata": {},
   "outputs": [],
   "source": [
    "#Plot Pct counts mito\n",
    "fig, ax = plt.subplots(figsize=(18,6))\n",
    "sns.boxenplot(data=adata.obs, x=\"leiden_scVI_1.6.1\", y=\"pct_counts_mito\", ax=ax)\n",
    "#Plot total counts\n",
    "fig, ax = plt.subplots(figsize=(18,6))\n",
    "sns.boxenplot(data=adata.obs, x=\"leiden_scVI_1.6.1\", y=\"total_counts\", ax=ax)"
   ]
  },
  {
   "cell_type": "code",
   "execution_count": null,
   "id": "9c59a9ec-6401-4a17-96c4-c2a8dbd063b1",
   "metadata": {},
   "outputs": [],
   "source": [
    "#Feature plot \n",
    "genes = ['leiden_scVI_1.6.1','Gng13','Gng8', \n",
    "         'Ermn','Cyp2a5','Cyp4b1','Sox2',\n",
    "         'Tmprss2','Ascl3', 'Cftr',\n",
    "         'Plp1','S100b','Lum',\n",
    "         'Dcn','Sox9','Sox10',\n",
    "         'Trp63','Krt5','Top2a',\n",
    "         'Kit', 'Eed','Ezh2',\n",
    "         'Ascl1','Neurod1','tdTomato',\n",
    "         'Ptprc', 'Cd3e','C1qa',\n",
    "         'Cd4','Cd14',\n",
    "        'Trpm5']\n",
    "\n",
    "sc.pl.umap(\n",
    "    adata,\n",
    "    color=genes,\n",
    "    use_raw=False,\n",
    "    legend_loc= \"on data\",\n",
    "    color_map=\"cmo.matter\",\n",
    "    ncols=3,\n",
    "    frameon=False,\n",
    "    vmax=\"p99.5\",\n",
    "    layer=\"norm\",\n",
    "    save=False\n",
    ")"
   ]
  },
  {
   "cell_type": "markdown",
   "id": "94a6894a-cca4-4a65-a48f-3d40343a9604",
   "metadata": {},
   "source": [
    "# Biased clustering for tdTomato"
   ]
  },
  {
   "cell_type": "code",
   "execution_count": null,
   "id": "d5a34c7a-270b-439e-81bd-5af628a8170d",
   "metadata": {},
   "outputs": [],
   "source": [
    "#Recluster based on tdTomato\n",
    "adata.obsm['X_geneset_tdTomato'] = adata[:,['tdTomato']].X\n",
    "sc.pp.neighbors(adata, use_rep='X_geneset_tdTomato')"
   ]
  },
  {
   "cell_type": "code",
   "execution_count": null,
   "id": "41e02265-7d77-488b-ab3d-f7b2f7db8c2b",
   "metadata": {},
   "outputs": [],
   "source": [
    "sc.tl.umap(adata, min_dist=0.5)\n",
    "\n",
    "#Run leiden clustering based on neighbors\n",
    "sc.tl.leiden(adata, key_added=\"leiden_biased_tdTomato\", resolution=0.2)"
   ]
  },
  {
   "cell_type": "code",
   "execution_count": null,
   "id": "14e2c4a8-c7ef-4b48-a0e8-cd00a954f91d",
   "metadata": {},
   "outputs": [],
   "source": [
    "fig, ax = plt.subplots(figsize=(12, 8))\n",
    "sc.pl.umap(adata, color=\"genotype\", cmap=\"cmo.matter\", s=3, ax=ax, vmax=\"p99.99\")\n",
    "fig, ax = plt.subplots(figsize=(12, 8))\n",
    "sc.pl.umap(adata, color=\"leiden_biased_tdTomato\", legend_loc=\"on data\", ax=ax, s=3)\n",
    "fig, ax = plt.subplots(figsize=(12, 8))\n",
    "sc.pl.umap(adata, color=\"tdTomato\", legend_loc=\"right margin\", ax=ax, s=3, color_map=\"cmo.matter\",\n",
    "    frameon=False,\n",
    "    vmax=\"p99.5\",\n",
    "    layer=\"norm\",)"
   ]
  },
  {
   "cell_type": "code",
   "execution_count": null,
   "id": "32bc60ba-5d70-42f7-986b-a345d10704e4",
   "metadata": {},
   "outputs": [],
   "source": [
    "#Identify and subset out negative clusters\n",
    "neg_clust=['0']\n",
    "\n",
    "#Filter out bad clusters\n",
    "tomato_pos=(~adata.obs['leiden_biased_tdTomato'].isin(neg_clust))\n",
    "tomato_neg=(adata.obs['leiden_biased_tdTomato'].isin(neg_clust))\n",
    "\n",
    "#Copy over to new anndata object\n",
    "adata_tom_pos = adata[tomato_pos].copy()\n",
    "adata_tom_neg = adata[tomato_neg].copy()"
   ]
  },
  {
   "cell_type": "code",
   "execution_count": null,
   "id": "2845c3b6-6b35-45ce-9d59-6587abc0fd46",
   "metadata": {},
   "outputs": [],
   "source": [
    "adata_tom_pos.obs['tomato']='positive'\n",
    "adata_tom_neg.obs['tomato']='negative'"
   ]
  },
  {
   "cell_type": "code",
   "execution_count": null,
   "id": "b77016ec-c159-4eb8-a9ef-e4db96ea9940",
   "metadata": {},
   "outputs": [],
   "source": [
    "adata = adata_tom_pos.concatenate(adata_tom_neg, index_unique=None, join=\"outer\")"
   ]
  },
  {
   "cell_type": "code",
   "execution_count": null,
   "id": "830116b6-79c3-4d83-b5bd-5f1cd8926269",
   "metadata": {},
   "outputs": [],
   "source": [
    "del adata.obsm['X_geneset_tdTomato']"
   ]
  },
  {
   "cell_type": "markdown",
   "id": "fa66b299-9bd7-4355-baf8-8804439bed16",
   "metadata": {},
   "source": [
    "# Annotation of scVI model 6"
   ]
  },
  {
   "cell_type": "code",
   "execution_count": null,
   "id": "c7e536e5-f83d-42ff-b75d-69476aa5ae91",
   "metadata": {},
   "outputs": [],
   "source": [
    "#Read anndata\n",
    "adata=sc.read_h5ad('EEDKO_Het_WT_scVI_1.6.1.h5ad')"
   ]
  },
  {
   "cell_type": "code",
   "execution_count": null,
   "id": "7b2bb5b9-76ef-4ce4-b477-0e5656948054",
   "metadata": {},
   "outputs": [],
   "source": [
    "#Rename scVI clusters with dash (need to do this for follow-up naming to work properly)\n",
    "new_cluster_names = ['_0', '_1', '_2', '_3', '_4', '_5', '_6', '_7', '_8', '_9', '_10','_11',\n",
    "                      '_12', '_13', '_14', '_15', '_16', '_17', '_18', '_19', '_20',\n",
    "                    '_21', '_22', '_23', '_24', '_25', '_26', '_27', '_28', '_29', '_30',\n",
    "                    '_31', '_32', '_33', '_34', '_35', '_36','_37']\n",
    "adata.rename_categories('leiden_scVI_1.6.1', new_cluster_names)"
   ]
  },
  {
   "cell_type": "code",
   "execution_count": null,
   "id": "6a4556ee-f429-40bc-a99e-32b1460a958f",
   "metadata": {},
   "outputs": [],
   "source": [
    "#Feature plot \n",
    "genes = ['leiden_scVI_1.6.1','Gng13','Gng8', \n",
    "         'Ermn','Cyp2a5','Sox2',\n",
    "         'Tmprss2','Ascl3', 'Cftr',\n",
    "         'Plp1','S100b','Lum',\n",
    "         'Dcn','Sox9','Sox10',\n",
    "         'Trp63','Krt5','Top2a',\n",
    "         'Kit', 'Eed','Ezh2',\n",
    "         'Ascl1','Neurod1','tdTomato',\n",
    "         'Ptprc', 'Cd3e','C1qa',\n",
    "         'Cd4','Cd14',\n",
    "        'Trpm5','Gpr155',\"Grin3a\"]\n",
    "\n",
    "sc.pl.umap(\n",
    "    adata,\n",
    "    color=genes,\n",
    "    use_raw=False,\n",
    "    legend_loc= \"on data\",\n",
    "    color_map=\"cmo.matter\",\n",
    "    ncols=3,\n",
    "    frameon=False,\n",
    "    vmax=\"p99.5\",\n",
    "    layer=\"norm\",\n",
    "    save=False\n",
    ")"
   ]
  },
  {
   "cell_type": "code",
   "execution_count": null,
   "id": "aeb56859-655a-4f73-85c4-02ae34fba2fc",
   "metadata": {},
   "outputs": [],
   "source": [
    "fig, ax = plt.subplots(figsize=(8, 6))\n",
    "sc.pl.umap(adata, color=\"leiden_scVI_1.6.1\", legend_loc=\"on data\", ax=ax, s=3, save=\"EEDKOHET_WT_leiden_scVI_1.6.1_umap_clusters.png\")"
   ]
  },
  {
   "cell_type": "code",
   "execution_count": null,
   "id": "e31df938-26f1-4bf3-a4e3-ddff4ca09178",
   "metadata": {},
   "outputs": [],
   "source": [
    "old_to_new = dict(\n",
    "    _0='mOSN',\n",
    "    _1='iOSN',\n",
    "    _2='mOSN',\n",
    "    _3='mOSN',\n",
    "    _4='mOSN',\n",
    "    _5='HBC',\n",
    "    _6='iOSN',\n",
    "    _7='Microvillar, Trpm5(-)',\n",
    "    _8='Immune',\n",
    "    _9='iOSN',\n",
    "    _10='iOSN',\n",
    "    _11='Immune',\n",
    "    _12='mOSN',\n",
    "    _13='Sustentacular',\n",
    "    _14='iOSN',\n",
    "    _15='Immune',\n",
    "    _16='mOSN',\n",
    "    _17='Immune',\n",
    "    _18='HBC',\n",
    "    _19='INP',\n",
    "    _20='mOSN',\n",
    "    _21='INP',\n",
    "    _22='mOSN',\n",
    "    _23='INP',\n",
    "    _24='Bowmans Glands',\n",
    "    _25='Sustentacular',\n",
    "    _26='HBC',\n",
    "    _27='Immune',\n",
    "    _28='Immune',\n",
    "    _29='Sustentacular',\n",
    "    _30='Immune',\n",
    "    _31='mOSN',\n",
    "    _32='iOSN',\n",
    "    _33='Microvillar, Trpm5(+)',\n",
    "    _34='GBC',\n",
    "    _35='Olfactory Ensheathing Glia',\n",
    "    _36='Immune',\n",
    "    _37='HBC'\n",
    ")\n",
    "\n",
    "\n",
    "adata.obs['annotated_cluster_names'] = (\n",
    "    adata.obs['leiden_scVI_1.6.1']\n",
    "    .map(old_to_new)\n",
    "    .astype('category')\n",
    ")"
   ]
  },
  {
   "cell_type": "code",
   "execution_count": null,
   "id": "16e7eb50-7bae-4750-bfa4-02a410e59404",
   "metadata": {},
   "outputs": [],
   "source": [
    "fig, ax = plt.subplots(figsize=(15, 15))\n",
    "sc.pl.umap(adata, color=\"annotated_cluster_names\", legend_loc=None, \n",
    "           ax=ax, s=5, frameon=False, save=\"EEDKOHET_WT_leiden_scVI_1.6.1_noClusterNames.png\")"
   ]
  },
  {
   "cell_type": "code",
   "execution_count": null,
   "id": "90222d22-4a4f-4af5-83ff-36a7cb8cb964",
   "metadata": {},
   "outputs": [],
   "source": [
    "adata.obs['annotated_cluster_names']"
   ]
  },
  {
   "cell_type": "code",
   "execution_count": null,
   "id": "44c7219f-f0c3-4126-968e-8da36c842f74",
   "metadata": {},
   "outputs": [],
   "source": [
    "fig, ax = plt.subplots(figsize=(15, 15))\n",
    "sc.pl.umap(adata, color=\"mouse_ident\", \n",
    "           ax=ax, s=5, frameon=False, save=\"EEDKOHET_WT_leiden_scVI_1.6.1_mouse_ident.png\")"
   ]
  },
  {
   "cell_type": "code",
   "execution_count": null,
   "id": "5c7d7e84-7424-44c5-bca2-1948a2855910",
   "metadata": {},
   "outputs": [],
   "source": [
    "fig, ax = plt.subplots(figsize=(15, 15))\n",
    "sc.pl.umap(adata, color=\"genotype\", \n",
    "           ax=ax, s=5, frameon=False, save=\"EEDKOHET_WT_leiden_scVI_1.6.1_genotype.png\")"
   ]
  },
  {
   "cell_type": "code",
   "execution_count": null,
   "id": "0aa42d8e-c903-4d82-9771-d6c761849297",
   "metadata": {},
   "outputs": [],
   "source": [
    "genes = ['Top2a','Neurod1','Eed','Ezh2']\n",
    "\n",
    "sc.pl.umap(\n",
    "    adata,\n",
    "    color=genes,\n",
    "    use_raw=False,\n",
    "    legend_loc= \"on data\",\n",
    "    color_map=\"cmo.matter\",\n",
    "    ncols=3,\n",
    "    frameon=False,\n",
    "    vmax=\"p99.5\",\n",
    "    layer=\"norm\",\n",
    "    save=\"EEDKOHET_WT_leiden_scVI_1.6.1_umap_GBCmarkers.png\"\n",
    ")"
   ]
  },
  {
   "cell_type": "markdown",
   "id": "5f63bb59-29fb-4173-864e-a5d8d4681d56",
   "metadata": {},
   "source": [
    "# Select olfactory cells"
   ]
  },
  {
   "cell_type": "code",
   "execution_count": null,
   "id": "132c529c-e2a9-4724-80e4-f7493b6d2a63",
   "metadata": {},
   "outputs": [],
   "source": [
    "#remove Immune\n",
    "select_clust=['Immune']\n",
    "olfactory=(~adata.obs['annotated_cluster_names'].isin(select_clust))\n",
    "\n",
    "#Copy over to new anndata object\n",
    "adata_olfactory = adata[olfactory].copy()"
   ]
  },
  {
   "cell_type": "code",
   "execution_count": null,
   "id": "090a5376-a530-4817-b8c4-52d56230cc43",
   "metadata": {},
   "outputs": [],
   "source": [
    "adata_olfactory.obs['annotated_cluster_names']"
   ]
  },
  {
   "cell_type": "code",
   "execution_count": null,
   "id": "35ad7155-b06c-43be-9f41-8b83f89b17e4",
   "metadata": {},
   "outputs": [],
   "source": [
    "#Save anndata\n",
    "adata_olfactory.write('EEDKOHET_WT_anndata_olfactory.h5ad')"
   ]
  },
  {
   "cell_type": "code",
   "execution_count": null,
   "id": "8de71c67-580f-4aaf-af22-a14c899ba11e",
   "metadata": {},
   "outputs": [],
   "source": [
    "adata_olfactory.obs.to_csv('EEDKOHET_WT_anndata_olfactory.csv')"
   ]
  },
  {
   "cell_type": "code",
   "execution_count": null,
   "id": "b2b6a704-9894-4409-a3cf-016c82f82e26",
   "metadata": {},
   "outputs": [],
   "source": [
    "#delete unnecessary var objects\n",
    "del adata_olfactory.uns\n",
    "del adata_olfactory.layers\n",
    "del adata_olfactory.obsp\n",
    "del adata_olfactory.obsm\n",
    "del adata_olfactory.obs\n",
    "del adata_olfactory.var\n",
    "adata_olfactory"
   ]
  },
  {
   "cell_type": "code",
   "execution_count": null,
   "id": "07235f51-7af9-478e-94e1-46812028c30d",
   "metadata": {},
   "outputs": [],
   "source": [
    "#Save anndata\n",
    "adata_olfactory.write('EEDKOHET_WT_anndata_olfactory_for_R.h5ad')"
   ]
  },
  {
   "cell_type": "markdown",
   "id": "02f75ac7-e818-4b31-b861-2208812d98cd",
   "metadata": {},
   "source": [
    "# Checking for batch effects"
   ]
  },
  {
   "cell_type": "code",
   "execution_count": null,
   "id": "42bfacd9-2d18-4392-8ace-5d4cb7b39712",
   "metadata": {},
   "outputs": [],
   "source": [
    "#Read anndata\n",
    "adata=sc.read_h5ad('EEDKOHET_WT_anndata_scVI1.6.1.h5ad')"
   ]
  },
  {
   "cell_type": "code",
   "execution_count": null,
   "id": "a6214028-c839-4fc8-86d3-aad9dc4ea463",
   "metadata": {},
   "outputs": [],
   "source": [
    "fig, ax = plt.subplots(figsize=(12, 10))\n",
    "sc.pl.umap(adata, color=\"mouse_ident\", \n",
    "           ax=ax, s=9, frameon=False, save=\"EEDKOHET_WT_umap_by_genotype.png\")"
   ]
  },
  {
   "cell_type": "code",
   "execution_count": null,
   "id": "6ce31b28-2952-4deb-8c36-9382c7841631",
   "metadata": {},
   "outputs": [],
   "source": [
    "select_clust=['het','ko']\n",
    "\n",
    "#Filter \n",
    "hetko=(adata.obs['genotype'].isin(select_clust))\n",
    "\n",
    "#Copy over to new anndata object\n",
    "adata_hetko = adata[hetko].copy()"
   ]
  },
  {
   "cell_type": "code",
   "execution_count": null,
   "id": "03646afe-584f-41ec-818a-ea44b2bd8f62",
   "metadata": {},
   "outputs": [],
   "source": [
    "fig, ax = plt.subplots(figsize=(12, 10))\n",
    "sc.pl.umap(adata_hetko, color=\"genotype\", \n",
    "           ax=ax, s=9, frameon=False, save=\"EEDKOHET_umap_by_genotype.png\")"
   ]
  },
  {
   "cell_type": "markdown",
   "id": "28ef0bb4-8d27-4895-9910-91db879f1ac3",
   "metadata": {},
   "source": [
    "# UMAP gene expression"
   ]
  },
  {
   "cell_type": "code",
   "execution_count": null,
   "id": "3faa6f3a-1dd9-4f03-b734-542b377a16ad",
   "metadata": {},
   "outputs": [],
   "source": [
    "#Read anndata\n",
    "adata=sc.read_h5ad('EEDKOHET_WT_anndata_olfactory.h5ad')\n",
    "#Identify and subset out \n",
    "select_WT_het=['wt','het']\n",
    "\n",
    "#Filter out bad clusters\n",
    "WTanimals=(adata.obs['genotype'].isin(select_WT_het))\n",
    "\n",
    "#Copy over to new anndata object\n",
    "adata_WT_het = adata[WTanimals].copy()\n",
    "\n",
    "adata_WT_het"
   ]
  },
  {
   "cell_type": "code",
   "execution_count": null,
   "id": "e6c76192-072f-4d67-8a47-4d1e16aca226",
   "metadata": {},
   "outputs": [],
   "source": [
    "genes = ['annotated_cluster_names','Top2a','Neurod1','Ezh2','Sox9']\n",
    "\n",
    "sc.pl.umap(\n",
    "    adata_WT,\n",
    "    color=genes,\n",
    "    use_raw=False,\n",
    "    legend_loc= \"on data\",\n",
    "    color_map=\"cmo.matter\",\n",
    "    ncols=3,\n",
    "    frameon=False,\n",
    "    vmax=\"p99.5\",\n",
    "    layer=\"norm\",\n",
    "    save=False\n",
    ")"
   ]
  },
  {
   "cell_type": "markdown",
   "id": "4f61648b-cdb8-4b86-98ad-962a4f8c6d91",
   "metadata": {},
   "source": [
    "# Expression of GBC DE U/DRG in WT OE cells"
   ]
  },
  {
   "cell_type": "code",
   "execution_count": null,
   "id": "db53c9e3-01c8-4ffd-90db-76990ee6c1e5",
   "metadata": {},
   "outputs": [],
   "source": [
    "#Identify and subset out \n",
    "select_WT=['wt']\n",
    "\n",
    "WTanimals=(adata.obs['genotype'].isin(select_WT))\n",
    "\n",
    "#Copy over to new anndata object\n",
    "adata_WT = adata[WTanimals].copy()\n",
    "\n",
    "adata_WT"
   ]
  },
  {
   "cell_type": "code",
   "execution_count": null,
   "id": "05dabbde-d9c2-4870-94c5-12aaac2c87f4",
   "metadata": {},
   "outputs": [],
   "source": [
    "#EEDKO tdtom+ vs tdtom-\n",
    "markers = ['Fgf12',\n",
    "'Gm1673',\n",
    "'Tuba1a',\n",
    "'Vcl',\n",
    "'Lcorl',\n",
    "'Myo1h',\n",
    "'Msi1',\n",
    "'Hes6',\n",
    "'Rev1',\n",
    "'Cemip2',\n",
    "'Prim1',\n",
    "'Shisal1',\n",
    "'Phlpp1',\n",
    "'Sgpp2',\n",
    "'Ebf1',\n",
    "'Pou2f3',\n",
    "'Lypd2',\n",
    "'Ehf',\n",
    "'Pappa',\n",
    "'Ermn',\n",
    "'Itpr1',\n",
    "'Eea1',\n",
    "'Fam126a',\n",
    "'Osbpl6',\n",
    "'Anxa5',\n",
    "'Acsl4',\n",
    "'Eif2ak4',\n",
    "'Meis2',\n",
    "'Edil3',\n",
    "'Sox9'\n",
    "]\n",
    "\n",
    "cluster_order = ['HBC', 'GBC','INP','iOSN','mOSN','Microvillar, Trpm5(-)','Microvillar, Trpm5(+)','Sustentacular','Bowmans Glands']\n",
    "\n",
    "sc.pl.dotplot(adata, markers, groupby='annotated_cluster_names', vmax=10, categories_order=cluster_order, save='dotplot_WT_GBC_downreg_upreg_genes_from_EEDKO.png')"
   ]
  }
 ],
 "metadata": {
  "kernelspec": {
   "display_name": "cell2loc_env",
   "language": "python",
   "name": "cell2loc_env"
  },
  "language_info": {
   "codemirror_mode": {
    "name": "ipython",
    "version": 3
   },
   "file_extension": ".py",
   "mimetype": "text/x-python",
   "name": "python",
   "nbconvert_exporter": "python",
   "pygments_lexer": "ipython3",
   "version": "3.9.13"
  },
  "toc-autonumbering": true
 },
 "nbformat": 4,
 "nbformat_minor": 5
}
